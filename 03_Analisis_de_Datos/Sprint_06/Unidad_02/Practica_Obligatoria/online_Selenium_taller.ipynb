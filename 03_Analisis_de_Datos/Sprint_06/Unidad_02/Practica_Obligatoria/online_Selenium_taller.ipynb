{
 "cells": [
  {
   "attachments": {},
   "cell_type": "markdown",
   "metadata": {
    "collapsed": false,
    "pycharm": {
     "name": "#%% md\n"
    }
   },
   "source": [
    "# Web Scraping con Selenium\n",
    "\n",
    "##### Vamos a ver como acceder a una web creando un bot con la librería Selenium que interactuará con la página\n"
   ]
  },
  {
   "attachments": {},
   "cell_type": "markdown",
   "metadata": {
    "collapsed": false,
    "pycharm": {
     "name": "#%% md\n"
    }
   },
   "source": [
    "## 1. Instalación de librerías\n",
    "\n",
    "Tenemos que usar las librerías Selenium y Webdriver_manager. Vamos a instalarlas:"
   ]
  },
  {
   "cell_type": "code",
<<<<<<< HEAD
   "execution_count": 1,
=======
   "execution_count": null,
>>>>>>> 15b41daf74e6f4b3a65d74ab3d34677a9c7890da
   "metadata": {
    "collapsed": false,
    "pycharm": {
     "name": "#%%\n"
    }
   },
   "outputs": [
    {
     "name": "stdout",
     "output_type": "stream",
     "text": [
<<<<<<< HEAD
      "Requirement already satisfied: selenium in c:\\users\\david\\appdata\\local\\programs\\python\\python312\\lib\\site-packages (4.31.0)\n",
      "Requirement already satisfied: urllib3<3,>=1.26 in c:\\users\\david\\appdata\\local\\programs\\python\\python312\\lib\\site-packages (from urllib3[socks]<3,>=1.26->selenium) (2.2.1)\n",
      "Requirement already satisfied: trio~=0.17 in c:\\users\\david\\appdata\\local\\programs\\python\\python312\\lib\\site-packages (from selenium) (0.29.0)\n",
      "Requirement already satisfied: trio-websocket~=0.9 in c:\\users\\david\\appdata\\local\\programs\\python\\python312\\lib\\site-packages (from selenium) (0.12.2)\n",
      "Requirement already satisfied: certifi>=2021.10.8 in c:\\users\\david\\appdata\\local\\programs\\python\\python312\\lib\\site-packages (from selenium) (2024.2.2)\n",
      "Requirement already satisfied: typing_extensions~=4.9 in c:\\users\\david\\appdata\\local\\programs\\python\\python312\\lib\\site-packages (from selenium) (4.13.2)\n",
      "Requirement already satisfied: websocket-client~=1.8 in c:\\users\\david\\appdata\\local\\programs\\python\\python312\\lib\\site-packages (from selenium) (1.8.0)\n",
      "Requirement already satisfied: attrs>=23.2.0 in c:\\users\\david\\appdata\\local\\programs\\python\\python312\\lib\\site-packages (from trio~=0.17->selenium) (23.2.0)\n",
      "Requirement already satisfied: sortedcontainers in c:\\users\\david\\appdata\\local\\programs\\python\\python312\\lib\\site-packages (from trio~=0.17->selenium) (2.4.0)\n",
      "Requirement already satisfied: idna in c:\\users\\david\\appdata\\local\\programs\\python\\python312\\lib\\site-packages (from trio~=0.17->selenium) (3.7)\n",
      "Requirement already satisfied: outcome in c:\\users\\david\\appdata\\local\\programs\\python\\python312\\lib\\site-packages (from trio~=0.17->selenium) (1.3.0.post0)\n",
      "Requirement already satisfied: sniffio>=1.3.0 in c:\\users\\david\\appdata\\local\\programs\\python\\python312\\lib\\site-packages (from trio~=0.17->selenium) (1.3.1)\n",
      "Requirement already satisfied: cffi>=1.14 in c:\\users\\david\\appdata\\local\\programs\\python\\python312\\lib\\site-packages (from trio~=0.17->selenium) (1.16.0)\n",
      "Requirement already satisfied: wsproto>=0.14 in c:\\users\\david\\appdata\\local\\programs\\python\\python312\\lib\\site-packages (from trio-websocket~=0.9->selenium) (1.2.0)\n",
      "Requirement already satisfied: pysocks!=1.5.7,<2.0,>=1.5.6 in c:\\users\\david\\appdata\\local\\programs\\python\\python312\\lib\\site-packages (from urllib3[socks]<3,>=1.26->selenium) (1.7.1)\n",
      "Requirement already satisfied: pycparser in c:\\users\\david\\appdata\\local\\programs\\python\\python312\\lib\\site-packages (from cffi>=1.14->trio~=0.17->selenium) (2.22)\n",
      "Requirement already satisfied: h11<1,>=0.9.0 in c:\\users\\david\\appdata\\local\\programs\\python\\python312\\lib\\site-packages (from wsproto>=0.14->trio-websocket~=0.9->selenium) (0.14.0)\n",
      "Note: you may need to restart the kernel to use updated packages.\n"
=======
      "Requirement already satisfied: selenium in c:\\users\\alberto romero\\appdata\\local\\programs\\python\\python312\\lib\\site-packages (4.22.0)\n",
      "Requirement already satisfied: urllib3<3,>=1.26 in c:\\users\\alberto romero\\appdata\\local\\programs\\python\\python312\\lib\\site-packages (from urllib3[socks]<3,>=1.26->selenium) (2.2.1)\n",
      "Requirement already satisfied: trio~=0.17 in c:\\users\\alberto romero\\appdata\\local\\programs\\python\\python312\\lib\\site-packages (from selenium) (0.26.0)\n",
      "Requirement already satisfied: trio-websocket~=0.9 in c:\\users\\alberto romero\\appdata\\local\\programs\\python\\python312\\lib\\site-packages (from selenium) (0.11.1)\n",
      "Requirement already satisfied: certifi>=2021.10.8 in c:\\users\\alberto romero\\appdata\\local\\programs\\python\\python312\\lib\\site-packages (from selenium) (2024.2.2)\n",
      "Requirement already satisfied: typing_extensions>=4.9.0 in c:\\users\\alberto romero\\appdata\\local\\programs\\python\\python312\\lib\\site-packages (from selenium) (4.11.0)\n",
      "Requirement already satisfied: websocket-client>=1.8.0 in c:\\users\\alberto romero\\appdata\\local\\programs\\python\\python312\\lib\\site-packages (from selenium) (1.8.0)\n",
      "Requirement already satisfied: attrs>=23.2.0 in c:\\users\\alberto romero\\appdata\\local\\programs\\python\\python312\\lib\\site-packages (from trio~=0.17->selenium) (23.2.0)\n",
      "Requirement already satisfied: sortedcontainers in c:\\users\\alberto romero\\appdata\\local\\programs\\python\\python312\\lib\\site-packages (from trio~=0.17->selenium) (2.4.0)\n",
      "Requirement already satisfied: idna in c:\\users\\alberto romero\\appdata\\local\\programs\\python\\python312\\lib\\site-packages (from trio~=0.17->selenium) (3.7)\n",
      "Requirement already satisfied: outcome in c:\\users\\alberto romero\\appdata\\local\\programs\\python\\python312\\lib\\site-packages (from trio~=0.17->selenium) (1.3.0.post0)\n",
      "Requirement already satisfied: sniffio>=1.3.0 in c:\\users\\alberto romero\\appdata\\local\\programs\\python\\python312\\lib\\site-packages (from trio~=0.17->selenium) (1.3.1)\n",
      "Requirement already satisfied: cffi>=1.14 in c:\\users\\alberto romero\\appdata\\local\\programs\\python\\python312\\lib\\site-packages (from trio~=0.17->selenium) (1.16.0)\n",
      "Requirement already satisfied: wsproto>=0.14 in c:\\users\\alberto romero\\appdata\\local\\programs\\python\\python312\\lib\\site-packages (from trio-websocket~=0.9->selenium) (1.2.0)\n",
      "Requirement already satisfied: pysocks!=1.5.7,<2.0,>=1.5.6 in c:\\users\\alberto romero\\appdata\\local\\programs\\python\\python312\\lib\\site-packages (from urllib3[socks]<3,>=1.26->selenium) (1.7.1)\n",
      "Requirement already satisfied: pycparser in c:\\users\\alberto romero\\appdata\\local\\programs\\python\\python312\\lib\\site-packages (from cffi>=1.14->trio~=0.17->selenium) (2.22)\n",
      "Requirement already satisfied: h11<1,>=0.9.0 in c:\\users\\alberto romero\\appdata\\local\\programs\\python\\python312\\lib\\site-packages (from wsproto>=0.14->trio-websocket~=0.9->selenium) (0.14.0)\n"
>>>>>>> 15b41daf74e6f4b3a65d74ab3d34677a9c7890da
     ]
    },
    {
     "name": "stderr",
     "output_type": "stream",
     "text": [
      "\n",
<<<<<<< HEAD
      "[notice] A new release of pip is available: 24.0 -> 25.0.1\n",
=======
      "[notice] A new release of pip is available: 24.0 -> 24.1.1\n",
>>>>>>> 15b41daf74e6f4b3a65d74ab3d34677a9c7890da
      "[notice] To update, run: python.exe -m pip install --upgrade pip\n"
     ]
    },
    {
     "name": "stdout",
     "output_type": "stream",
     "text": [
<<<<<<< HEAD
      "Requirement already satisfied: webdriver-manager in c:\\users\\david\\appdata\\local\\programs\\python\\python312\\lib\\site-packages (4.0.2)\n",
      "Requirement already satisfied: requests in c:\\users\\david\\appdata\\local\\programs\\python\\python312\\lib\\site-packages (from webdriver-manager) (2.31.0)\n",
      "Requirement already satisfied: python-dotenv in c:\\users\\david\\appdata\\local\\programs\\python\\python312\\lib\\site-packages (from webdriver-manager) (1.1.0)\n",
      "Requirement already satisfied: packaging in c:\\users\\david\\appdata\\local\\programs\\python\\python312\\lib\\site-packages (from webdriver-manager) (24.0)\n",
      "Requirement already satisfied: charset-normalizer<4,>=2 in c:\\users\\david\\appdata\\local\\programs\\python\\python312\\lib\\site-packages (from requests->webdriver-manager) (3.3.2)\n",
      "Requirement already satisfied: idna<4,>=2.5 in c:\\users\\david\\appdata\\local\\programs\\python\\python312\\lib\\site-packages (from requests->webdriver-manager) (3.7)\n",
      "Requirement already satisfied: urllib3<3,>=1.21.1 in c:\\users\\david\\appdata\\local\\programs\\python\\python312\\lib\\site-packages (from requests->webdriver-manager) (2.2.1)\n",
      "Requirement already satisfied: certifi>=2017.4.17 in c:\\users\\david\\appdata\\local\\programs\\python\\python312\\lib\\site-packages (from requests->webdriver-manager) (2024.2.2)\n",
      "Note: you may need to restart the kernel to use updated packages.\n"
=======
      "Requirement already satisfied: webdriver_manager in c:\\users\\alberto romero\\appdata\\local\\programs\\python\\python312\\lib\\site-packages (4.0.1)\n",
      "Requirement already satisfied: requests in c:\\users\\alberto romero\\appdata\\local\\programs\\python\\python312\\lib\\site-packages (from webdriver_manager) (2.31.0)\n",
      "Requirement already satisfied: python-dotenv in c:\\users\\alberto romero\\appdata\\local\\programs\\python\\python312\\lib\\site-packages (from webdriver_manager) (1.0.1)\n",
      "Requirement already satisfied: packaging in c:\\users\\alberto romero\\appdata\\roaming\\python\\python312\\site-packages (from webdriver_manager) (24.0)\n",
      "Requirement already satisfied: charset-normalizer<4,>=2 in c:\\users\\alberto romero\\appdata\\local\\programs\\python\\python312\\lib\\site-packages (from requests->webdriver_manager) (3.3.2)\n",
      "Requirement already satisfied: idna<4,>=2.5 in c:\\users\\alberto romero\\appdata\\local\\programs\\python\\python312\\lib\\site-packages (from requests->webdriver_manager) (3.7)\n",
      "Requirement already satisfied: urllib3<3,>=1.21.1 in c:\\users\\alberto romero\\appdata\\local\\programs\\python\\python312\\lib\\site-packages (from requests->webdriver_manager) (2.2.1)\n",
      "Requirement already satisfied: certifi>=2017.4.17 in c:\\users\\alberto romero\\appdata\\local\\programs\\python\\python312\\lib\\site-packages (from requests->webdriver_manager) (2024.2.2)\n"
>>>>>>> 15b41daf74e6f4b3a65d74ab3d34677a9c7890da
     ]
    },
    {
     "name": "stderr",
     "output_type": "stream",
     "text": [
      "\n",
<<<<<<< HEAD
      "[notice] A new release of pip is available: 24.0 -> 25.0.1\n",
      "[notice] To update, run: python.exe -m pip install --upgrade pip\n"
     ]
    },
    {
     "name": "stdout",
     "output_type": "stream",
     "text": [
      "Collecting pandas\n",
      "  Using cached pandas-2.2.3-cp312-cp312-win_amd64.whl.metadata (19 kB)\n",
      "Requirement already satisfied: numpy>=1.26.0 in c:\\users\\david\\appdata\\local\\programs\\python\\python312\\lib\\site-packages (from pandas) (1.26.4)\n",
      "Requirement already satisfied: python-dateutil>=2.8.2 in c:\\users\\david\\appdata\\local\\programs\\python\\python312\\lib\\site-packages (from pandas) (2.9.0.post0)\n",
      "Collecting pytz>=2020.1 (from pandas)\n",
      "  Using cached pytz-2025.2-py2.py3-none-any.whl.metadata (22 kB)\n",
      "Collecting tzdata>=2022.7 (from pandas)\n",
      "  Using cached tzdata-2025.2-py2.py3-none-any.whl.metadata (1.4 kB)\n",
      "Requirement already satisfied: six>=1.5 in c:\\users\\david\\appdata\\local\\programs\\python\\python312\\lib\\site-packages (from python-dateutil>=2.8.2->pandas) (1.16.0)\n",
      "Downloading pandas-2.2.3-cp312-cp312-win_amd64.whl (11.5 MB)\n",
      "   ---------------------------------------- 0.0/11.5 MB ? eta -:--:--\n",
      "   ---------------------------------------- 0.0/11.5 MB ? eta -:--:--\n",
      "   ---------------------------------------- 0.0/11.5 MB ? eta -:--:--\n",
      "   ---------------------------------------- 0.0/11.5 MB ? eta -:--:--\n",
      "   ---------------------------------------- 0.0/11.5 MB ? eta -:--:--\n",
      "   ---------------------------------------- 0.0/11.5 MB ? eta -:--:--\n",
      "   ---------------------------------------- 0.0/11.5 MB ? eta -:--:--\n",
      "   ---------------------------------------- 0.0/11.5 MB ? eta -:--:--\n",
      "   ---------------------------------------- 0.0/11.5 MB ? eta -:--:--\n",
      "   ---------------------------------------- 0.0/11.5 MB ? eta -:--:--\n",
      "   ---------------------------------------- 0.0/11.5 MB ? eta -:--:--\n",
      "   ---------------------------------------- 0.0/11.5 MB ? eta -:--:--\n",
      "   ---------------------------------------- 0.0/11.5 MB ? eta -:--:--\n",
      "   ---------------------------------------- 0.0/11.5 MB ? eta -:--:--\n",
      "   ---------------------------------------- 0.0/11.5 MB 108.9 kB/s eta 0:01:46\n",
      "   ---------------------------------------- 0.0/11.5 MB 150.6 kB/s eta 0:01:17\n",
      "   ---------------------------------------- 0.0/11.5 MB 150.6 kB/s eta 0:01:17\n",
      "   ---------------------------------------- 0.1/11.5 MB 172.4 kB/s eta 0:01:07\n",
      "   ---------------------------------------- 0.1/11.5 MB 208.4 kB/s eta 0:00:55\n",
      "   ---------------------------------------- 0.1/11.5 MB 209.5 kB/s eta 0:00:55\n",
      "   ---------------------------------------- 0.1/11.5 MB 242.7 kB/s eta 0:00:47\n",
      "   ---------------------------------------- 0.1/11.5 MB 242.7 kB/s eta 0:00:47\n",
      "   ---------------------------------------- 0.1/11.5 MB 225.3 kB/s eta 0:00:51\n",
      "   ---------------------------------------- 0.1/11.5 MB 225.3 kB/s eta 0:00:51\n",
      "   ---------------------------------------- 0.1/11.5 MB 225.3 kB/s eta 0:00:51\n",
      "    --------------------------------------- 0.2/11.5 MB 239.6 kB/s eta 0:00:48\n",
      "    --------------------------------------- 0.2/11.5 MB 243.8 kB/s eta 0:00:47\n",
      "    --------------------------------------- 0.2/11.5 MB 243.8 kB/s eta 0:00:47\n",
      "    --------------------------------------- 0.2/11.5 MB 243.8 kB/s eta 0:00:47\n",
      "    --------------------------------------- 0.2/11.5 MB 243.8 kB/s eta 0:00:47\n",
      "    --------------------------------------- 0.2/11.5 MB 243.8 kB/s eta 0:00:47\n",
      "    --------------------------------------- 0.2/11.5 MB 218.4 kB/s eta 0:00:52\n",
      "    --------------------------------------- 0.2/11.5 MB 229.3 kB/s eta 0:00:50\n",
      "    --------------------------------------- 0.2/11.5 MB 235.5 kB/s eta 0:00:48\n",
      "    --------------------------------------- 0.3/11.5 MB 238.1 kB/s eta 0:00:48\n",
      "    --------------------------------------- 0.3/11.5 MB 238.1 kB/s eta 0:00:48\n",
      "    --------------------------------------- 0.3/11.5 MB 249.1 kB/s eta 0:00:46\n",
      "   - -------------------------------------- 0.3/11.5 MB 270.9 kB/s eta 0:00:42\n",
      "   - -------------------------------------- 0.3/11.5 MB 270.9 kB/s eta 0:00:42\n",
      "   - -------------------------------------- 0.3/11.5 MB 270.9 kB/s eta 0:00:42\n",
      "   - -------------------------------------- 0.3/11.5 MB 270.9 kB/s eta 0:00:42\n",
      "   - -------------------------------------- 0.3/11.5 MB 270.9 kB/s eta 0:00:42\n",
      "   - -------------------------------------- 0.4/11.5 MB 253.2 kB/s eta 0:00:45\n",
      "   - -------------------------------------- 0.4/11.5 MB 253.2 kB/s eta 0:00:45\n",
      "   - -------------------------------------- 0.4/11.5 MB 253.2 kB/s eta 0:00:45\n",
      "   - -------------------------------------- 0.4/11.5 MB 249.9 kB/s eta 0:00:45\n",
      "   - -------------------------------------- 0.4/11.5 MB 249.9 kB/s eta 0:00:45\n",
      "   - -------------------------------------- 0.4/11.5 MB 249.9 kB/s eta 0:00:45\n",
      "   - -------------------------------------- 0.4/11.5 MB 249.6 kB/s eta 0:00:45\n",
      "   - -------------------------------------- 0.4/11.5 MB 249.6 kB/s eta 0:00:45\n",
      "   - -------------------------------------- 0.5/11.5 MB 251.6 kB/s eta 0:00:44\n",
      "   - -------------------------------------- 0.5/11.5 MB 251.6 kB/s eta 0:00:44\n",
      "   - -------------------------------------- 0.5/11.5 MB 263.1 kB/s eta 0:00:42\n",
      "   - -------------------------------------- 0.5/11.5 MB 273.1 kB/s eta 0:00:41\n",
      "   - -------------------------------------- 0.5/11.5 MB 269.5 kB/s eta 0:00:41\n",
      "   - -------------------------------------- 0.6/11.5 MB 286.0 kB/s eta 0:00:39\n",
      "   -- ------------------------------------- 0.6/11.5 MB 288.9 kB/s eta 0:00:38\n",
      "   -- ------------------------------------- 0.6/11.5 MB 288.9 kB/s eta 0:00:38\n",
      "   -- ------------------------------------- 0.6/11.5 MB 288.5 kB/s eta 0:00:38\n",
      "   -- ------------------------------------- 0.6/11.5 MB 288.5 kB/s eta 0:00:38\n",
      "   -- ------------------------------------- 0.6/11.5 MB 288.5 kB/s eta 0:00:38\n",
      "   -- ------------------------------------- 0.6/11.5 MB 288.5 kB/s eta 0:00:38\n",
      "   -- ------------------------------------- 0.7/11.5 MB 284.7 kB/s eta 0:00:39\n",
      "   -- ------------------------------------- 0.7/11.5 MB 284.7 kB/s eta 0:00:39\n",
      "   -- ------------------------------------- 0.7/11.5 MB 282.7 kB/s eta 0:00:39\n",
      "   -- ------------------------------------- 0.7/11.5 MB 289.8 kB/s eta 0:00:38\n",
      "   -- ------------------------------------- 0.7/11.5 MB 294.5 kB/s eta 0:00:37\n",
      "   -- ------------------------------------- 0.7/11.5 MB 294.5 kB/s eta 0:00:37\n",
      "   -- ------------------------------------- 0.8/11.5 MB 297.8 kB/s eta 0:00:37\n",
      "   -- ------------------------------------- 0.8/11.5 MB 297.8 kB/s eta 0:00:37\n",
      "   -- ------------------------------------- 0.8/11.5 MB 308.3 kB/s eta 0:00:35\n",
      "   -- ------------------------------------- 0.9/11.5 MB 316.2 kB/s eta 0:00:34\n",
      "   --- ------------------------------------ 0.9/11.5 MB 327.7 kB/s eta 0:00:33\n",
      "   --- ------------------------------------ 1.0/11.5 MB 340.5 kB/s eta 0:00:31\n",
      "   --- ------------------------------------ 1.0/11.5 MB 347.5 kB/s eta 0:00:31\n",
      "   --- ------------------------------------ 1.1/11.5 MB 364.8 kB/s eta 0:00:29\n",
      "   --- ------------------------------------ 1.1/11.5 MB 382.0 kB/s eta 0:00:28\n",
      "   --- ------------------------------------ 1.1/11.5 MB 386.9 kB/s eta 0:00:27\n",
      "   --- ------------------------------------ 1.1/11.5 MB 386.9 kB/s eta 0:00:27\n",
      "   ---- ----------------------------------- 1.2/11.5 MB 384.5 kB/s eta 0:00:27\n",
      "   ---- ----------------------------------- 1.2/11.5 MB 384.5 kB/s eta 0:00:27\n",
      "   ---- ----------------------------------- 1.2/11.5 MB 384.5 kB/s eta 0:00:27\n",
      "   ---- ----------------------------------- 1.2/11.5 MB 384.5 kB/s eta 0:00:27\n",
      "   ---- ----------------------------------- 1.2/11.5 MB 384.5 kB/s eta 0:00:27\n",
      "   ---- ----------------------------------- 1.2/11.5 MB 374.4 kB/s eta 0:00:28\n",
      "   ---- ----------------------------------- 1.2/11.5 MB 374.4 kB/s eta 0:00:28\n",
      "   ---- ----------------------------------- 1.3/11.5 MB 379.3 kB/s eta 0:00:27\n",
      "   ---- ----------------------------------- 1.3/11.5 MB 383.5 kB/s eta 0:00:27\n",
      "   ---- ----------------------------------- 1.3/11.5 MB 377.8 kB/s eta 0:00:27\n",
      "   ---- ----------------------------------- 1.4/11.5 MB 393.2 kB/s eta 0:00:26\n",
      "   ---- ----------------------------------- 1.4/11.5 MB 390.9 kB/s eta 0:00:26\n",
      "   ----- ---------------------------------- 1.5/11.5 MB 408.5 kB/s eta 0:00:25\n",
      "   ----- ---------------------------------- 1.5/11.5 MB 415.2 kB/s eta 0:00:25\n",
      "   ----- ---------------------------------- 1.5/11.5 MB 415.2 kB/s eta 0:00:25\n",
      "   ----- ---------------------------------- 1.5/11.5 MB 415.2 kB/s eta 0:00:25\n",
      "   ----- ---------------------------------- 1.5/11.5 MB 415.2 kB/s eta 0:00:25\n",
      "   ----- ---------------------------------- 1.5/11.5 MB 415.2 kB/s eta 0:00:25\n",
      "   ----- ---------------------------------- 1.6/11.5 MB 409.6 kB/s eta 0:00:25\n",
      "   ----- ---------------------------------- 1.6/11.5 MB 409.6 kB/s eta 0:00:25\n",
      "   ----- ---------------------------------- 1.6/11.5 MB 409.6 kB/s eta 0:00:25\n",
      "   ----- ---------------------------------- 1.6/11.5 MB 409.6 kB/s eta 0:00:25\n",
      "   ----- ---------------------------------- 1.6/11.5 MB 409.6 kB/s eta 0:00:25\n",
      "   ----- ---------------------------------- 1.6/11.5 MB 397.7 kB/s eta 0:00:25\n",
      "   ----- ---------------------------------- 1.6/11.5 MB 397.2 kB/s eta 0:00:25\n",
      "   ----- ---------------------------------- 1.6/11.5 MB 397.2 kB/s eta 0:00:25\n",
      "   ----- ---------------------------------- 1.7/11.5 MB 402.4 kB/s eta 0:00:25\n",
      "   ----- ---------------------------------- 1.7/11.5 MB 402.4 kB/s eta 0:00:25\n",
      "   ------ --------------------------------- 1.8/11.5 MB 407.8 kB/s eta 0:00:24\n",
      "   ------ --------------------------------- 1.8/11.5 MB 412.5 kB/s eta 0:00:24\n",
      "   ------ --------------------------------- 1.8/11.5 MB 408.9 kB/s eta 0:00:24\n",
      "   ------ --------------------------------- 1.8/11.5 MB 408.9 kB/s eta 0:00:24\n",
      "   ------ --------------------------------- 1.8/11.5 MB 403.6 kB/s eta 0:00:24\n",
      "   ------ --------------------------------- 1.9/11.5 MB 407.6 kB/s eta 0:00:24\n",
      "   ------ --------------------------------- 1.9/11.5 MB 409.2 kB/s eta 0:00:24\n",
      "   ------ --------------------------------- 1.9/11.5 MB 404.6 kB/s eta 0:00:24\n",
      "   ------ --------------------------------- 1.9/11.5 MB 404.6 kB/s eta 0:00:24\n",
      "   ------ --------------------------------- 1.9/11.5 MB 403.6 kB/s eta 0:00:24\n",
      "   ------ --------------------------------- 1.9/11.5 MB 403.6 kB/s eta 0:00:24\n",
      "   ------ --------------------------------- 1.9/11.5 MB 402.1 kB/s eta 0:00:24\n",
      "   ------ --------------------------------- 1.9/11.5 MB 402.1 kB/s eta 0:00:24\n",
      "   ------ --------------------------------- 2.0/11.5 MB 399.4 kB/s eta 0:00:24\n",
      "   ------ --------------------------------- 2.0/11.5 MB 399.4 kB/s eta 0:00:24\n",
      "   ------ --------------------------------- 2.0/11.5 MB 398.1 kB/s eta 0:00:24\n",
      "   ------- -------------------------------- 2.0/11.5 MB 399.7 kB/s eta 0:00:24\n",
      "   ------- -------------------------------- 2.0/11.5 MB 399.7 kB/s eta 0:00:24\n",
      "   ------- -------------------------------- 2.0/11.5 MB 399.7 kB/s eta 0:00:24\n",
      "   ------- -------------------------------- 2.0/11.5 MB 399.7 kB/s eta 0:00:24\n",
      "   ------- -------------------------------- 2.1/11.5 MB 391.2 kB/s eta 0:00:25\n",
      "   ------- -------------------------------- 2.1/11.5 MB 394.7 kB/s eta 0:00:24\n",
      "   ------- -------------------------------- 2.1/11.5 MB 398.6 kB/s eta 0:00:24\n",
      "   ------- -------------------------------- 2.2/11.5 MB 405.8 kB/s eta 0:00:23\n",
      "   ------- -------------------------------- 2.3/11.5 MB 412.4 kB/s eta 0:00:23\n",
      "   -------- ------------------------------- 2.3/11.5 MB 423.2 kB/s eta 0:00:22\n",
      "   -------- ------------------------------- 2.4/11.5 MB 430.7 kB/s eta 0:00:22\n",
      "   -------- ------------------------------- 2.5/11.5 MB 441.8 kB/s eta 0:00:21\n",
      "   -------- ------------------------------- 2.5/11.5 MB 447.3 kB/s eta 0:00:21\n",
      "   -------- ------------------------------- 2.5/11.5 MB 447.3 kB/s eta 0:00:21\n",
      "   -------- ------------------------------- 2.5/11.5 MB 447.3 kB/s eta 0:00:21\n",
      "   -------- ------------------------------- 2.5/11.5 MB 441.0 kB/s eta 0:00:21\n",
      "   -------- ------------------------------- 2.5/11.5 MB 440.4 kB/s eta 0:00:21\n",
      "   -------- ------------------------------- 2.6/11.5 MB 440.9 kB/s eta 0:00:21\n",
      "   -------- ------------------------------- 2.6/11.5 MB 440.9 kB/s eta 0:00:21\n",
      "   -------- ------------------------------- 2.6/11.5 MB 440.9 kB/s eta 0:00:21\n",
      "   --------- ------------------------------ 2.6/11.5 MB 439.2 kB/s eta 0:00:21\n",
      "   --------- ------------------------------ 2.6/11.5 MB 439.2 kB/s eta 0:00:21\n",
      "   --------- ------------------------------ 2.7/11.5 MB 440.8 kB/s eta 0:00:21\n",
      "   --------- ------------------------------ 2.7/11.5 MB 443.0 kB/s eta 0:00:20\n",
      "   --------- ------------------------------ 2.7/11.5 MB 443.0 kB/s eta 0:00:20\n",
      "   --------- ------------------------------ 2.7/11.5 MB 443.0 kB/s eta 0:00:20\n",
      "   --------- ------------------------------ 2.7/11.5 MB 443.0 kB/s eta 0:00:20\n",
      "   --------- ------------------------------ 2.7/11.5 MB 443.0 kB/s eta 0:00:20\n",
      "   --------- ------------------------------ 2.7/11.5 MB 443.0 kB/s eta 0:00:20\n",
      "   --------- ------------------------------ 2.7/11.5 MB 426.7 kB/s eta 0:00:21\n",
      "   --------- ------------------------------ 2.7/11.5 MB 426.7 kB/s eta 0:00:21\n",
      "   --------- ------------------------------ 2.7/11.5 MB 426.7 kB/s eta 0:00:21\n",
      "   --------- ------------------------------ 2.8/11.5 MB 429.5 kB/s eta 0:00:21\n",
      "   --------- ------------------------------ 2.8/11.5 MB 429.1 kB/s eta 0:00:21\n",
      "   --------- ------------------------------ 2.8/11.5 MB 429.1 kB/s eta 0:00:21\n",
      "   ---------- ----------------------------- 2.9/11.5 MB 428.7 kB/s eta 0:00:21\n",
      "   ---------- ----------------------------- 2.9/11.5 MB 428.7 kB/s eta 0:00:21\n",
      "   ---------- ----------------------------- 2.9/11.5 MB 428.7 kB/s eta 0:00:21\n",
      "   ---------- ----------------------------- 2.9/11.5 MB 428.7 kB/s eta 0:00:21\n",
      "   ---------- ----------------------------- 2.9/11.5 MB 428.7 kB/s eta 0:00:21\n",
      "   ---------- ----------------------------- 2.9/11.5 MB 428.7 kB/s eta 0:00:21\n",
      "   ---------- ----------------------------- 2.9/11.5 MB 428.7 kB/s eta 0:00:21\n",
      "   ---------- ----------------------------- 2.9/11.5 MB 428.7 kB/s eta 0:00:21\n",
      "   ---------- ----------------------------- 2.9/11.5 MB 428.7 kB/s eta 0:00:21\n",
      "   ---------- ----------------------------- 2.9/11.5 MB 428.7 kB/s eta 0:00:21\n",
      "   ---------- ----------------------------- 2.9/11.5 MB 405.8 kB/s eta 0:00:22\n",
      "   ---------- ----------------------------- 2.9/11.5 MB 405.8 kB/s eta 0:00:22\n",
      "   ---------- ----------------------------- 2.9/11.5 MB 405.8 kB/s eta 0:00:22\n",
      "   ---------- ----------------------------- 2.9/11.5 MB 405.8 kB/s eta 0:00:22\n",
      "   ---------- ----------------------------- 2.9/11.5 MB 405.8 kB/s eta 0:00:22\n",
      "   ---------- ----------------------------- 2.9/11.5 MB 405.8 kB/s eta 0:00:22\n",
      "   ---------- ----------------------------- 3.0/11.5 MB 399.9 kB/s eta 0:00:22\n",
      "   ---------- ----------------------------- 3.0/11.5 MB 399.9 kB/s eta 0:00:22\n",
      "   ---------- ----------------------------- 3.0/11.5 MB 398.1 kB/s eta 0:00:22\n",
      "   ---------- ----------------------------- 3.0/11.5 MB 398.1 kB/s eta 0:00:22\n",
      "   ---------- ----------------------------- 3.0/11.5 MB 398.1 kB/s eta 0:00:22\n",
      "   ---------- ----------------------------- 3.0/11.5 MB 399.9 kB/s eta 0:00:22\n",
      "   ---------- ----------------------------- 3.0/11.5 MB 399.9 kB/s eta 0:00:22\n",
      "   ---------- ----------------------------- 3.0/11.5 MB 399.9 kB/s eta 0:00:22\n",
      "   ---------- ----------------------------- 3.0/11.5 MB 399.9 kB/s eta 0:00:22\n",
      "   ---------- ----------------------------- 3.0/11.5 MB 399.9 kB/s eta 0:00:22\n",
      "   ---------- ----------------------------- 3.0/11.5 MB 399.9 kB/s eta 0:00:22\n",
      "   ---------- ----------------------------- 3.0/11.5 MB 399.9 kB/s eta 0:00:22\n",
      "   ---------- ----------------------------- 3.1/11.5 MB 389.8 kB/s eta 0:00:22\n",
      "   ---------- ----------------------------- 3.1/11.5 MB 390.1 kB/s eta 0:00:22\n",
      "   ---------- ----------------------------- 3.1/11.5 MB 390.1 kB/s eta 0:00:22\n",
      "   ---------- ----------------------------- 3.1/11.5 MB 390.1 kB/s eta 0:00:22\n",
      "   ---------- ----------------------------- 3.1/11.5 MB 390.1 kB/s eta 0:00:22\n",
      "   ---------- ----------------------------- 3.2/11.5 MB 386.2 kB/s eta 0:00:22\n",
      "   ---------- ----------------------------- 3.2/11.5 MB 386.2 kB/s eta 0:00:22\n",
      "   ----------- ---------------------------- 3.2/11.5 MB 388.2 kB/s eta 0:00:22\n",
      "   ----------- ---------------------------- 3.2/11.5 MB 388.2 kB/s eta 0:00:22\n",
      "   ----------- ---------------------------- 3.2/11.5 MB 388.0 kB/s eta 0:00:22\n",
      "   ----------- ---------------------------- 3.2/11.5 MB 388.0 kB/s eta 0:00:22\n",
      "   ----------- ---------------------------- 3.3/11.5 MB 387.6 kB/s eta 0:00:22\n",
      "   ----------- ---------------------------- 3.3/11.5 MB 392.0 kB/s eta 0:00:21\n",
      "   ----------- ---------------------------- 3.3/11.5 MB 392.0 kB/s eta 0:00:21\n",
      "   ----------- ---------------------------- 3.4/11.5 MB 394.4 kB/s eta 0:00:21\n",
      "   ----------- ---------------------------- 3.4/11.5 MB 398.2 kB/s eta 0:00:21\n",
      "   ------------ --------------------------- 3.5/11.5 MB 401.3 kB/s eta 0:00:21\n",
      "   ------------ --------------------------- 3.5/11.5 MB 405.0 kB/s eta 0:00:20\n",
      "   ------------ --------------------------- 3.6/11.5 MB 407.8 kB/s eta 0:00:20\n",
      "   ------------ --------------------------- 3.6/11.5 MB 407.8 kB/s eta 0:00:20\n",
      "   ------------ --------------------------- 3.6/11.5 MB 407.8 kB/s eta 0:00:20\n",
      "   ------------ --------------------------- 3.6/11.5 MB 403.4 kB/s eta 0:00:20\n",
      "   ------------ --------------------------- 3.6/11.5 MB 405.0 kB/s eta 0:00:20\n",
      "   ------------ --------------------------- 3.6/11.5 MB 405.0 kB/s eta 0:00:20\n",
      "   ------------ --------------------------- 3.6/11.5 MB 405.0 kB/s eta 0:00:20\n",
      "   ------------ --------------------------- 3.7/11.5 MB 404.7 kB/s eta 0:00:20\n",
      "   ------------ --------------------------- 3.7/11.5 MB 404.7 kB/s eta 0:00:20\n",
      "   ------------ --------------------------- 3.7/11.5 MB 405.5 kB/s eta 0:00:20\n",
      "   ------------ --------------------------- 3.7/11.5 MB 405.5 kB/s eta 0:00:20\n",
      "   ------------ --------------------------- 3.7/11.5 MB 405.5 kB/s eta 0:00:20\n",
      "   ------------- -------------------------- 3.8/11.5 MB 408.9 kB/s eta 0:00:19\n",
      "   ------------- -------------------------- 3.8/11.5 MB 408.9 kB/s eta 0:00:19\n",
      "   ------------- -------------------------- 3.8/11.5 MB 408.9 kB/s eta 0:00:19\n",
      "   ------------- -------------------------- 3.9/11.5 MB 410.7 kB/s eta 0:00:19\n",
      "   ------------- -------------------------- 3.9/11.5 MB 410.8 kB/s eta 0:00:19\n",
      "   ------------- -------------------------- 3.9/11.5 MB 414.8 kB/s eta 0:00:19\n",
      "   ------------- -------------------------- 3.9/11.5 MB 414.8 kB/s eta 0:00:19\n",
      "   ------------- -------------------------- 3.9/11.5 MB 414.8 kB/s eta 0:00:19\n",
      "   ------------- -------------------------- 3.9/11.5 MB 414.8 kB/s eta 0:00:19\n",
      "   ------------- -------------------------- 3.9/11.5 MB 414.8 kB/s eta 0:00:19\n",
      "   ------------- -------------------------- 4.0/11.5 MB 408.0 kB/s eta 0:00:19\n",
      "   ------------- -------------------------- 4.0/11.5 MB 412.0 kB/s eta 0:00:19\n",
      "   ------------- -------------------------- 4.0/11.5 MB 412.0 kB/s eta 0:00:19\n",
      "   ------------- -------------------------- 4.0/11.5 MB 412.0 kB/s eta 0:00:19\n",
      "   -------------- ------------------------- 4.1/11.5 MB 410.2 kB/s eta 0:00:19\n",
      "   -------------- ------------------------- 4.1/11.5 MB 410.2 kB/s eta 0:00:19\n",
      "   -------------- ------------------------- 4.1/11.5 MB 407.4 kB/s eta 0:00:19\n",
      "   -------------- ------------------------- 4.1/11.5 MB 410.2 kB/s eta 0:00:19\n",
      "   -------------- ------------------------- 4.1/11.5 MB 410.2 kB/s eta 0:00:19\n",
      "   -------------- ------------------------- 4.1/11.5 MB 410.2 kB/s eta 0:00:19\n",
      "   -------------- ------------------------- 4.1/11.5 MB 410.2 kB/s eta 0:00:19\n",
      "   -------------- ------------------------- 4.1/11.5 MB 410.2 kB/s eta 0:00:19\n",
      "   -------------- ------------------------- 4.1/11.5 MB 410.2 kB/s eta 0:00:19\n",
      "   -------------- ------------------------- 4.1/11.5 MB 401.6 kB/s eta 0:00:19\n",
      "   -------------- ------------------------- 4.2/11.5 MB 403.3 kB/s eta 0:00:19\n",
      "   -------------- ------------------------- 4.2/11.5 MB 404.1 kB/s eta 0:00:19\n",
      "   -------------- ------------------------- 4.2/11.5 MB 404.1 kB/s eta 0:00:19\n",
      "   -------------- ------------------------- 4.2/11.5 MB 404.1 kB/s eta 0:00:19\n",
      "   -------------- ------------------------- 4.2/11.5 MB 404.1 kB/s eta 0:00:19\n",
      "   -------------- ------------------------- 4.2/11.5 MB 404.1 kB/s eta 0:00:19\n",
      "   -------------- ------------------------- 4.2/11.5 MB 398.4 kB/s eta 0:00:19\n",
      "   -------------- ------------------------- 4.2/11.5 MB 398.4 kB/s eta 0:00:19\n",
      "   -------------- ------------------------- 4.2/11.5 MB 398.4 kB/s eta 0:00:19\n",
      "   -------------- ------------------------- 4.3/11.5 MB 398.6 kB/s eta 0:00:19\n",
      "   -------------- ------------------------- 4.3/11.5 MB 398.6 kB/s eta 0:00:19\n",
      "   -------------- ------------------------- 4.3/11.5 MB 398.6 kB/s eta 0:00:19\n",
      "   -------------- ------------------------- 4.3/11.5 MB 398.6 kB/s eta 0:00:19\n",
      "   -------------- ------------------------- 4.3/11.5 MB 398.6 kB/s eta 0:00:19\n",
      "   --------------- ------------------------ 4.3/11.5 MB 394.7 kB/s eta 0:00:19\n",
      "   --------------- ------------------------ 4.3/11.5 MB 396.0 kB/s eta 0:00:19\n",
      "   --------------- ------------------------ 4.4/11.5 MB 396.9 kB/s eta 0:00:18\n",
      "   --------------- ------------------------ 4.4/11.5 MB 397.7 kB/s eta 0:00:18\n",
      "   --------------- ------------------------ 4.4/11.5 MB 397.7 kB/s eta 0:00:18\n",
      "   --------------- ------------------------ 4.4/11.5 MB 397.7 kB/s eta 0:00:18\n",
      "   --------------- ------------------------ 4.4/11.5 MB 397.7 kB/s eta 0:00:18\n",
      "   --------------- ------------------------ 4.5/11.5 MB 396.1 kB/s eta 0:00:18\n",
      "   --------------- ------------------------ 4.5/11.5 MB 398.1 kB/s eta 0:00:18\n",
      "   --------------- ------------------------ 4.5/11.5 MB 398.1 kB/s eta 0:00:18\n",
      "   --------------- ------------------------ 4.5/11.5 MB 398.1 kB/s eta 0:00:18\n",
      "   --------------- ------------------------ 4.5/11.5 MB 398.1 kB/s eta 0:00:18\n",
      "   --------------- ------------------------ 4.5/11.5 MB 398.1 kB/s eta 0:00:18\n",
      "   --------------- ------------------------ 4.6/11.5 MB 395.4 kB/s eta 0:00:18\n",
      "   --------------- ------------------------ 4.6/11.5 MB 395.4 kB/s eta 0:00:18\n",
      "   --------------- ------------------------ 4.6/11.5 MB 395.4 kB/s eta 0:00:18\n",
      "   ---------------- ----------------------- 4.6/11.5 MB 397.6 kB/s eta 0:00:18\n",
      "   ---------------- ----------------------- 4.6/11.5 MB 397.6 kB/s eta 0:00:18\n",
      "   ---------------- ----------------------- 4.7/11.5 MB 401.4 kB/s eta 0:00:17\n",
      "   ---------------- ----------------------- 4.8/11.5 MB 403.5 kB/s eta 0:00:17\n",
      "   ---------------- ----------------------- 4.8/11.5 MB 404.5 kB/s eta 0:00:17\n",
      "   ---------------- ----------------------- 4.9/11.5 MB 408.4 kB/s eta 0:00:17\n",
      "   ---------------- ----------------------- 4.9/11.5 MB 410.5 kB/s eta 0:00:17\n",
      "   ---------------- ----------------------- 4.9/11.5 MB 410.5 kB/s eta 0:00:17\n",
      "   ---------------- ----------------------- 4.9/11.5 MB 410.5 kB/s eta 0:00:17\n",
      "   ----------------- ---------------------- 4.9/11.5 MB 406.8 kB/s eta 0:00:17\n",
      "   ----------------- ---------------------- 5.0/11.5 MB 412.0 kB/s eta 0:00:16\n",
      "   ----------------- ---------------------- 5.0/11.5 MB 412.3 kB/s eta 0:00:16\n",
      "   ----------------- ---------------------- 5.0/11.5 MB 412.3 kB/s eta 0:00:16\n",
      "   ----------------- ---------------------- 5.0/11.5 MB 412.3 kB/s eta 0:00:16\n",
      "   ----------------- ---------------------- 5.0/11.5 MB 412.3 kB/s eta 0:00:16\n",
      "   ----------------- ---------------------- 5.0/11.5 MB 412.3 kB/s eta 0:00:16\n",
      "   ----------------- ---------------------- 5.0/11.5 MB 412.3 kB/s eta 0:00:16\n",
      "   ----------------- ---------------------- 5.0/11.5 MB 412.3 kB/s eta 0:00:16\n",
      "   ----------------- ---------------------- 5.0/11.5 MB 412.3 kB/s eta 0:00:16\n",
      "   ----------------- ---------------------- 5.0/11.5 MB 412.3 kB/s eta 0:00:16\n",
      "   ----------------- ---------------------- 5.0/11.5 MB 412.3 kB/s eta 0:00:16\n",
      "   ----------------- ---------------------- 5.1/11.5 MB 406.1 kB/s eta 0:00:16\n",
      "   ----------------- ---------------------- 5.1/11.5 MB 406.1 kB/s eta 0:00:16\n",
      "   ----------------- ---------------------- 5.1/11.5 MB 406.1 kB/s eta 0:00:16\n",
      "   ----------------- ---------------------- 5.1/11.5 MB 406.1 kB/s eta 0:00:16\n",
      "   ----------------- ---------------------- 5.1/11.5 MB 406.1 kB/s eta 0:00:16\n",
      "   ----------------- ---------------------- 5.1/11.5 MB 406.1 kB/s eta 0:00:16\n",
      "   ----------------- ---------------------- 5.1/11.5 MB 406.1 kB/s eta 0:00:16\n",
      "   ----------------- ---------------------- 5.1/11.5 MB 406.1 kB/s eta 0:00:16\n",
      "   ----------------- ---------------------- 5.1/11.5 MB 406.1 kB/s eta 0:00:16\n",
      "   ----------------- ---------------------- 5.2/11.5 MB 397.3 kB/s eta 0:00:16\n",
      "   ----------------- ---------------------- 5.2/11.5 MB 397.3 kB/s eta 0:00:16\n",
      "   ----------------- ---------------------- 5.2/11.5 MB 397.3 kB/s eta 0:00:16\n",
      "   ----------------- ---------------------- 5.2/11.5 MB 394.8 kB/s eta 0:00:17\n",
      "   ------------------ --------------------- 5.2/11.5 MB 395.4 kB/s eta 0:00:16\n",
      "   ------------------ --------------------- 5.2/11.5 MB 395.4 kB/s eta 0:00:16\n",
      "   ------------------ --------------------- 5.2/11.5 MB 395.4 kB/s eta 0:00:16\n",
      "   ------------------ --------------------- 5.2/11.5 MB 394.9 kB/s eta 0:00:16\n",
      "   ------------------ --------------------- 5.2/11.5 MB 394.9 kB/s eta 0:00:16\n",
      "   ------------------ --------------------- 5.3/11.5 MB 392.9 kB/s eta 0:00:16\n",
      "   ------------------ --------------------- 5.3/11.5 MB 397.4 kB/s eta 0:00:16\n",
      "   ------------------ --------------------- 5.4/11.5 MB 397.8 kB/s eta 0:00:16\n",
      "   ------------------ --------------------- 5.4/11.5 MB 397.8 kB/s eta 0:00:16\n",
      "   ------------------ --------------------- 5.4/11.5 MB 397.8 kB/s eta 0:00:16\n",
      "   ------------------ --------------------- 5.4/11.5 MB 397.8 kB/s eta 0:00:16\n",
      "   ------------------ --------------------- 5.4/11.5 MB 397.8 kB/s eta 0:00:16\n",
      "   ------------------ --------------------- 5.4/11.5 MB 393.2 kB/s eta 0:00:16\n",
      "   ------------------ --------------------- 5.4/11.5 MB 393.2 kB/s eta 0:00:16\n",
      "   ------------------ --------------------- 5.4/11.5 MB 392.8 kB/s eta 0:00:16\n",
      "   ------------------ --------------------- 5.4/11.5 MB 392.8 kB/s eta 0:00:16\n",
      "   ------------------ --------------------- 5.4/11.5 MB 392.8 kB/s eta 0:00:16\n",
      "   ------------------ --------------------- 5.4/11.5 MB 391.9 kB/s eta 0:00:16\n",
      "   ------------------- -------------------- 5.5/11.5 MB 391.9 kB/s eta 0:00:16\n",
      "   ------------------- -------------------- 5.5/11.5 MB 392.8 kB/s eta 0:00:16\n",
      "   ------------------- -------------------- 5.5/11.5 MB 392.8 kB/s eta 0:00:16\n",
      "   ------------------- -------------------- 5.6/11.5 MB 393.1 kB/s eta 0:00:16\n",
      "   ------------------- -------------------- 5.6/11.5 MB 392.9 kB/s eta 0:00:16\n",
      "   ------------------- -------------------- 5.6/11.5 MB 392.9 kB/s eta 0:00:16\n",
      "   ------------------- -------------------- 5.6/11.5 MB 393.5 kB/s eta 0:00:15\n",
      "   ------------------- -------------------- 5.6/11.5 MB 393.5 kB/s eta 0:00:15\n",
      "   ------------------- -------------------- 5.6/11.5 MB 393.5 kB/s eta 0:00:15\n",
      "   ------------------- -------------------- 5.6/11.5 MB 393.5 kB/s eta 0:00:15\n",
      "   ------------------- -------------------- 5.6/11.5 MB 393.5 kB/s eta 0:00:15\n",
      "   ------------------- -------------------- 5.6/11.5 MB 393.5 kB/s eta 0:00:15\n",
      "   ------------------- -------------------- 5.6/11.5 MB 393.5 kB/s eta 0:00:15\n",
      "   ------------------- -------------------- 5.6/11.5 MB 393.5 kB/s eta 0:00:15\n",
      "   ------------------- -------------------- 5.6/11.5 MB 393.5 kB/s eta 0:00:15\n",
      "   ------------------- -------------------- 5.6/11.5 MB 393.5 kB/s eta 0:00:15\n",
      "   ------------------- -------------------- 5.6/11.5 MB 393.5 kB/s eta 0:00:15\n",
      "   ------------------- -------------------- 5.6/11.5 MB 393.5 kB/s eta 0:00:15\n",
      "   ------------------- -------------------- 5.6/11.5 MB 381.0 kB/s eta 0:00:16\n",
      "   ------------------- -------------------- 5.7/11.5 MB 381.2 kB/s eta 0:00:16\n",
      "   ------------------- -------------------- 5.7/11.5 MB 381.2 kB/s eta 0:00:16\n",
      "   ------------------- -------------------- 5.7/11.5 MB 381.2 kB/s eta 0:00:16\n",
      "   ------------------- -------------------- 5.7/11.5 MB 381.2 kB/s eta 0:00:16\n",
      "   ------------------- -------------------- 5.7/11.5 MB 377.5 kB/s eta 0:00:16\n",
      "   ------------------- -------------------- 5.7/11.5 MB 376.6 kB/s eta 0:00:16\n",
      "   ------------------- -------------------- 5.7/11.5 MB 377.3 kB/s eta 0:00:16\n",
      "   ------------------- -------------------- 5.7/11.5 MB 377.3 kB/s eta 0:00:16\n",
      "   ------------------- -------------------- 5.7/11.5 MB 377.3 kB/s eta 0:00:16\n",
      "   ------------------- -------------------- 5.7/11.5 MB 377.3 kB/s eta 0:00:16\n",
      "   ------------------- -------------------- 5.7/11.5 MB 377.3 kB/s eta 0:00:16\n",
      "   ------------------- -------------------- 5.7/11.5 MB 377.3 kB/s eta 0:00:16\n",
      "   ------------------- -------------------- 5.7/11.5 MB 377.3 kB/s eta 0:00:16\n",
      "   ------------------- -------------------- 5.7/11.5 MB 377.3 kB/s eta 0:00:16\n",
      "   ------------------- -------------------- 5.7/11.5 MB 377.3 kB/s eta 0:00:16\n",
      "   ------------------- -------------------- 5.7/11.5 MB 377.3 kB/s eta 0:00:16\n",
      "   ------------------- -------------------- 5.7/11.5 MB 377.3 kB/s eta 0:00:16\n",
      "   ------------------- -------------------- 5.7/11.5 MB 377.3 kB/s eta 0:00:16\n",
      "   ------------------- -------------------- 5.7/11.5 MB 377.3 kB/s eta 0:00:16\n",
      "   ------------------- -------------------- 5.7/11.5 MB 377.3 kB/s eta 0:00:16\n",
      "   ------------------- -------------------- 5.7/11.5 MB 363.1 kB/s eta 0:00:16\n",
      "   ------------------- -------------------- 5.7/11.5 MB 363.1 kB/s eta 0:00:16\n",
      "   ------------------- -------------------- 5.7/11.5 MB 363.1 kB/s eta 0:00:16\n",
      "   ------------------- -------------------- 5.7/11.5 MB 363.1 kB/s eta 0:00:16\n",
      "   ------------------- -------------------- 5.7/11.5 MB 359.4 kB/s eta 0:00:17\n",
      "   ------------------- -------------------- 5.7/11.5 MB 359.4 kB/s eta 0:00:17\n",
      "   -------------------- ------------------- 5.8/11.5 MB 359.0 kB/s eta 0:00:17\n",
      "   -------------------- ------------------- 5.8/11.5 MB 359.0 kB/s eta 0:00:17\n",
      "   -------------------- ------------------- 5.8/11.5 MB 359.0 kB/s eta 0:00:17\n",
      "   -------------------- ------------------- 5.8/11.5 MB 359.0 kB/s eta 0:00:17\n",
      "   -------------------- ------------------- 5.8/11.5 MB 356.4 kB/s eta 0:00:17\n",
      "   -------------------- ------------------- 5.8/11.5 MB 356.4 kB/s eta 0:00:17\n",
      "   -------------------- ------------------- 5.8/11.5 MB 356.4 kB/s eta 0:00:17\n",
      "   -------------------- ------------------- 5.8/11.5 MB 356.4 kB/s eta 0:00:17\n",
      "   -------------------- ------------------- 5.8/11.5 MB 356.4 kB/s eta 0:00:17\n",
      "   -------------------- ------------------- 5.8/11.5 MB 356.4 kB/s eta 0:00:17\n",
      "   -------------------- ------------------- 5.8/11.5 MB 356.4 kB/s eta 0:00:17\n",
      "   -------------------- ------------------- 5.8/11.5 MB 356.4 kB/s eta 0:00:17\n",
      "   -------------------- ------------------- 5.8/11.5 MB 356.4 kB/s eta 0:00:17\n",
      "   -------------------- ------------------- 5.8/11.5 MB 356.4 kB/s eta 0:00:17\n",
      "   -------------------- ------------------- 5.8/11.5 MB 356.4 kB/s eta 0:00:17\n",
      "   -------------------- ------------------- 5.8/11.5 MB 356.4 kB/s eta 0:00:17\n",
      "   -------------------- ------------------- 5.8/11.5 MB 356.4 kB/s eta 0:00:17\n",
      "   -------------------- ------------------- 5.8/11.5 MB 356.4 kB/s eta 0:00:17\n",
      "   -------------------- ------------------- 5.8/11.5 MB 356.4 kB/s eta 0:00:17\n",
      "   -------------------- ------------------- 5.8/11.5 MB 356.4 kB/s eta 0:00:17\n",
      "   -------------------- ------------------- 5.8/11.5 MB 341.6 kB/s eta 0:00:17\n",
      "   -------------------- ------------------- 5.8/11.5 MB 341.6 kB/s eta 0:00:17\n",
      "   -------------------- ------------------- 5.8/11.5 MB 341.6 kB/s eta 0:00:17\n",
      "   -------------------- ------------------- 5.8/11.5 MB 341.6 kB/s eta 0:00:17\n",
      "   -------------------- ------------------- 5.8/11.5 MB 339.0 kB/s eta 0:00:17\n",
      "   -------------------- ------------------- 5.8/11.5 MB 339.0 kB/s eta 0:00:17\n",
      "   -------------------- ------------------- 5.8/11.5 MB 339.0 kB/s eta 0:00:17\n",
      "   -------------------- ------------------- 5.8/11.5 MB 337.8 kB/s eta 0:00:17\n",
      "   -------------------- ------------------- 5.8/11.5 MB 337.8 kB/s eta 0:00:17\n",
      "   -------------------- ------------------- 5.8/11.5 MB 337.8 kB/s eta 0:00:17\n",
      "   -------------------- ------------------- 5.8/11.5 MB 337.8 kB/s eta 0:00:17\n",
      "   -------------------- ------------------- 5.8/11.5 MB 337.8 kB/s eta 0:00:17\n",
      "   -------------------- ------------------- 5.8/11.5 MB 337.8 kB/s eta 0:00:17\n",
      "   -------------------- ------------------- 5.8/11.5 MB 337.8 kB/s eta 0:00:17\n",
      "   -------------------- ------------------- 5.9/11.5 MB 332.3 kB/s eta 0:00:17\n",
      "   -------------------- ------------------- 5.9/11.5 MB 332.3 kB/s eta 0:00:17\n",
      "   -------------------- ------------------- 5.9/11.5 MB 332.3 kB/s eta 0:00:17\n",
      "   -------------------- ------------------- 5.9/11.5 MB 332.3 kB/s eta 0:00:17\n",
      "   -------------------- ------------------- 5.9/11.5 MB 332.3 kB/s eta 0:00:17\n",
      "   -------------------- ------------------- 5.9/11.5 MB 332.3 kB/s eta 0:00:17\n",
      "   -------------------- ------------------- 5.9/11.5 MB 328.3 kB/s eta 0:00:18\n",
      "   -------------------- ------------------- 5.9/11.5 MB 328.3 kB/s eta 0:00:18\n",
      "   -------------------- ------------------- 5.9/11.5 MB 328.3 kB/s eta 0:00:18\n",
      "   -------------------- ------------------- 5.9/11.5 MB 328.3 kB/s eta 0:00:18\n",
      "   -------------------- ------------------- 5.9/11.5 MB 328.3 kB/s eta 0:00:18\n",
      "   -------------------- ------------------- 5.9/11.5 MB 324.6 kB/s eta 0:00:18\n",
      "   -------------------- ------------------- 5.9/11.5 MB 324.6 kB/s eta 0:00:18\n",
      "   -------------------- ------------------- 5.9/11.5 MB 324.6 kB/s eta 0:00:18\n",
      "   -------------------- ------------------- 5.9/11.5 MB 323.5 kB/s eta 0:00:18\n",
      "   -------------------- ------------------- 5.9/11.5 MB 323.5 kB/s eta 0:00:18\n",
      "   -------------------- ------------------- 5.9/11.5 MB 321.8 kB/s eta 0:00:18\n",
      "   -------------------- ------------------- 5.9/11.5 MB 321.8 kB/s eta 0:00:18\n",
      "   -------------------- ------------------- 5.9/11.5 MB 321.8 kB/s eta 0:00:18\n",
      "   -------------------- ------------------- 5.9/11.5 MB 321.8 kB/s eta 0:00:18\n",
      "   -------------------- ------------------- 5.9/11.5 MB 321.8 kB/s eta 0:00:18\n",
      "   -------------------- ------------------- 5.9/11.5 MB 321.8 kB/s eta 0:00:18\n",
      "   -------------------- ------------------- 5.9/11.5 MB 321.8 kB/s eta 0:00:18\n",
      "   -------------------- ------------------- 5.9/11.5 MB 321.8 kB/s eta 0:00:18\n",
      "   -------------------- ------------------- 5.9/11.5 MB 321.8 kB/s eta 0:00:18\n",
      "   -------------------- ------------------- 5.9/11.5 MB 321.8 kB/s eta 0:00:18\n",
      "   -------------------- ------------------- 5.9/11.5 MB 321.8 kB/s eta 0:00:18\n",
      "   -------------------- ------------------- 5.9/11.5 MB 321.8 kB/s eta 0:00:18\n",
      "   -------------------- ------------------- 5.9/11.5 MB 321.8 kB/s eta 0:00:18\n",
      "   -------------------- ------------------- 5.9/11.5 MB 313.1 kB/s eta 0:00:18\n",
      "   -------------------- ------------------- 5.9/11.5 MB 313.1 kB/s eta 0:00:18\n",
      "   -------------------- ------------------- 5.9/11.5 MB 313.1 kB/s eta 0:00:18\n",
      "   -------------------- ------------------- 5.9/11.5 MB 313.1 kB/s eta 0:00:18\n",
      "   -------------------- ------------------- 5.9/11.5 MB 313.1 kB/s eta 0:00:18\n",
      "   -------------------- ------------------- 5.9/11.5 MB 313.1 kB/s eta 0:00:18\n",
      "   -------------------- ------------------- 5.9/11.5 MB 313.1 kB/s eta 0:00:18\n",
      "   -------------------- ------------------- 5.9/11.5 MB 313.1 kB/s eta 0:00:18\n",
      "   -------------------- ------------------- 5.9/11.5 MB 313.1 kB/s eta 0:00:18\n",
      "   -------------------- ------------------- 5.9/11.5 MB 313.1 kB/s eta 0:00:18\n",
      "   -------------------- ------------------- 6.0/11.5 MB 306.3 kB/s eta 0:00:19\n",
      "   -------------------- ------------------- 6.0/11.5 MB 306.3 kB/s eta 0:00:19\n",
      "   -------------------- ------------------- 6.0/11.5 MB 306.3 kB/s eta 0:00:19\n",
      "   -------------------- ------------------- 6.0/11.5 MB 305.1 kB/s eta 0:00:19\n",
      "   -------------------- ------------------- 6.0/11.5 MB 305.1 kB/s eta 0:00:19\n",
      "   -------------------- ------------------- 6.0/11.5 MB 304.7 kB/s eta 0:00:19\n",
      "   -------------------- ------------------- 6.0/11.5 MB 304.7 kB/s eta 0:00:19\n",
      "   -------------------- ------------------- 6.0/11.5 MB 304.7 kB/s eta 0:00:19\n",
      "   -------------------- ------------------- 6.0/11.5 MB 304.7 kB/s eta 0:00:19\n",
      "   -------------------- ------------------- 6.0/11.5 MB 304.7 kB/s eta 0:00:19\n",
      "   -------------------- ------------------- 6.0/11.5 MB 304.7 kB/s eta 0:00:19\n",
      "   -------------------- ------------------- 6.0/11.5 MB 304.7 kB/s eta 0:00:19\n",
      "   -------------------- ------------------- 6.0/11.5 MB 304.7 kB/s eta 0:00:19\n",
      "   -------------------- ------------------- 6.0/11.5 MB 304.7 kB/s eta 0:00:19\n",
      "   -------------------- ------------------- 6.0/11.5 MB 304.7 kB/s eta 0:00:19\n",
      "   -------------------- ------------------- 6.0/11.5 MB 304.7 kB/s eta 0:00:19\n",
      "   -------------------- ------------------- 6.0/11.5 MB 297.7 kB/s eta 0:00:19\n",
      "   -------------------- ------------------- 6.0/11.5 MB 297.7 kB/s eta 0:00:19\n",
      "   -------------------- ------------------- 6.0/11.5 MB 297.7 kB/s eta 0:00:19\n",
      "   -------------------- ------------------- 6.0/11.5 MB 297.7 kB/s eta 0:00:19\n",
      "   -------------------- ------------------- 6.0/11.5 MB 297.7 kB/s eta 0:00:19\n",
      "   -------------------- ------------------- 6.0/11.5 MB 297.7 kB/s eta 0:00:19\n",
      "   -------------------- ------------------- 6.0/11.5 MB 297.7 kB/s eta 0:00:19\n",
      "   -------------------- ------------------- 6.0/11.5 MB 297.7 kB/s eta 0:00:19\n",
      "   -------------------- ------------------- 6.0/11.5 MB 293.2 kB/s eta 0:00:19\n",
      "   -------------------- ------------------- 6.0/11.5 MB 293.2 kB/s eta 0:00:19\n",
      "   -------------------- ------------------- 6.0/11.5 MB 293.2 kB/s eta 0:00:19\n",
      "   -------------------- ------------------- 6.0/11.5 MB 293.2 kB/s eta 0:00:19\n",
      "   --------------------- ------------------ 6.0/11.5 MB 292.0 kB/s eta 0:00:19\n",
      "   --------------------- ------------------ 6.0/11.5 MB 292.0 kB/s eta 0:00:19\n",
      "   --------------------- ------------------ 6.0/11.5 MB 292.0 kB/s eta 0:00:19\n",
      "   --------------------- ------------------ 6.0/11.5 MB 292.0 kB/s eta 0:00:19\n",
      "   --------------------- ------------------ 6.0/11.5 MB 292.0 kB/s eta 0:00:19\n",
      "   --------------------- ------------------ 6.0/11.5 MB 292.0 kB/s eta 0:00:19\n",
      "   --------------------- ------------------ 6.1/11.5 MB 288.5 kB/s eta 0:00:19\n",
      "   --------------------- ------------------ 6.1/11.5 MB 288.5 kB/s eta 0:00:19\n",
      "   --------------------- ------------------ 6.1/11.5 MB 288.5 kB/s eta 0:00:19\n",
      "   --------------------- ------------------ 6.1/11.5 MB 287.6 kB/s eta 0:00:19\n",
      "   --------------------- ------------------ 6.1/11.5 MB 287.6 kB/s eta 0:00:19\n",
      "   --------------------- ------------------ 6.1/11.5 MB 286.4 kB/s eta 0:00:19\n",
      "   --------------------- ------------------ 6.1/11.5 MB 286.4 kB/s eta 0:00:19\n",
      "   --------------------- ------------------ 6.1/11.5 MB 286.4 kB/s eta 0:00:19\n",
      "   --------------------- ------------------ 6.1/11.5 MB 285.9 kB/s eta 0:00:19\n",
      "   --------------------- ------------------ 6.1/11.5 MB 285.9 kB/s eta 0:00:19\n",
      "   --------------------- ------------------ 6.1/11.5 MB 285.6 kB/s eta 0:00:19\n",
      "   --------------------- ------------------ 6.1/11.5 MB 285.6 kB/s eta 0:00:19\n",
      "   --------------------- ------------------ 6.1/11.5 MB 285.0 kB/s eta 0:00:19\n",
      "   --------------------- ------------------ 6.2/11.5 MB 285.1 kB/s eta 0:00:19\n",
      "   --------------------- ------------------ 6.2/11.5 MB 285.1 kB/s eta 0:00:19\n",
      "   --------------------- ------------------ 6.2/11.5 MB 285.1 kB/s eta 0:00:19\n",
      "   --------------------- ------------------ 6.2/11.5 MB 283.6 kB/s eta 0:00:19\n",
      "   --------------------- ------------------ 6.2/11.5 MB 284.1 kB/s eta 0:00:19\n",
      "   --------------------- ------------------ 6.2/11.5 MB 284.1 kB/s eta 0:00:19\n",
      "   --------------------- ------------------ 6.2/11.5 MB 284.1 kB/s eta 0:00:19\n",
      "   --------------------- ------------------ 6.2/11.5 MB 283.5 kB/s eta 0:00:19\n",
      "   --------------------- ------------------ 6.2/11.5 MB 283.5 kB/s eta 0:00:19\n",
      "   --------------------- ------------------ 6.2/11.5 MB 283.5 kB/s eta 0:00:19\n",
      "   --------------------- ------------------ 6.2/11.5 MB 283.0 kB/s eta 0:00:19\n",
      "   --------------------- ------------------ 6.2/11.5 MB 283.0 kB/s eta 0:00:19\n",
      "   --------------------- ------------------ 6.2/11.5 MB 282.3 kB/s eta 0:00:19\n",
      "   --------------------- ------------------ 6.3/11.5 MB 282.8 kB/s eta 0:00:19\n",
      "   --------------------- ------------------ 6.3/11.5 MB 282.8 kB/s eta 0:00:19\n",
      "   --------------------- ------------------ 6.3/11.5 MB 282.7 kB/s eta 0:00:19\n",
      "   --------------------- ------------------ 6.3/11.5 MB 283.2 kB/s eta 0:00:19\n",
      "   ---------------------- ----------------- 6.3/11.5 MB 283.6 kB/s eta 0:00:19\n",
      "   ---------------------- ----------------- 6.4/11.5 MB 284.2 kB/s eta 0:00:19\n",
      "   ---------------------- ----------------- 6.4/11.5 MB 284.9 kB/s eta 0:00:18\n",
      "   ---------------------- ----------------- 6.4/11.5 MB 284.9 kB/s eta 0:00:18\n",
      "   ---------------------- ----------------- 6.4/11.5 MB 284.9 kB/s eta 0:00:18\n",
      "   ---------------------- ----------------- 6.4/11.5 MB 283.8 kB/s eta 0:00:18\n",
      "   ---------------------- ----------------- 6.4/11.5 MB 283.8 kB/s eta 0:00:18\n",
      "   ---------------------- ----------------- 6.4/11.5 MB 283.5 kB/s eta 0:00:18\n",
      "   ---------------------- ----------------- 6.4/11.5 MB 283.5 kB/s eta 0:00:18\n",
      "   ---------------------- ----------------- 6.4/11.5 MB 283.5 kB/s eta 0:00:18\n",
      "   ---------------------- ----------------- 6.4/11.5 MB 283.5 kB/s eta 0:00:18\n",
      "   ---------------------- ----------------- 6.4/11.5 MB 283.5 kB/s eta 0:00:18\n",
      "   ---------------------- ----------------- 6.4/11.5 MB 283.5 kB/s eta 0:00:18\n",
      "   ---------------------- ----------------- 6.4/11.5 MB 283.5 kB/s eta 0:00:18\n",
      "   ---------------------- ----------------- 6.5/11.5 MB 281.0 kB/s eta 0:00:18\n",
      "   ---------------------- ----------------- 6.5/11.5 MB 281.3 kB/s eta 0:00:18\n",
      "   ---------------------- ----------------- 6.5/11.5 MB 281.0 kB/s eta 0:00:18\n",
      "   ---------------------- ----------------- 6.5/11.5 MB 281.6 kB/s eta 0:00:18\n",
      "   ---------------------- ----------------- 6.5/11.5 MB 281.6 kB/s eta 0:00:18\n",
      "   ---------------------- ----------------- 6.5/11.5 MB 281.7 kB/s eta 0:00:18\n",
      "   ---------------------- ----------------- 6.6/11.5 MB 282.0 kB/s eta 0:00:18\n",
      "   ---------------------- ----------------- 6.6/11.5 MB 282.0 kB/s eta 0:00:18\n",
      "   ---------------------- ----------------- 6.6/11.5 MB 282.0 kB/s eta 0:00:18\n",
      "   ---------------------- ----------------- 6.6/11.5 MB 281.6 kB/s eta 0:00:18\n",
      "   ---------------------- ----------------- 6.6/11.5 MB 281.6 kB/s eta 0:00:18\n",
      "   ---------------------- ----------------- 6.6/11.5 MB 280.9 kB/s eta 0:00:18\n",
      "   ----------------------- ---------------- 6.6/11.5 MB 281.2 kB/s eta 0:00:18\n",
      "   ----------------------- ---------------- 6.6/11.5 MB 281.4 kB/s eta 0:00:18\n",
      "   ----------------------- ---------------- 6.6/11.5 MB 281.6 kB/s eta 0:00:18\n",
      "   ----------------------- ---------------- 6.6/11.5 MB 281.6 kB/s eta 0:00:18\n",
      "   ----------------------- ---------------- 6.6/11.5 MB 281.6 kB/s eta 0:00:18\n",
      "   ----------------------- ---------------- 6.6/11.5 MB 281.6 kB/s eta 0:00:18\n",
      "   ----------------------- ---------------- 6.6/11.5 MB 281.6 kB/s eta 0:00:18\n",
      "   ----------------------- ---------------- 6.6/11.5 MB 281.6 kB/s eta 0:00:18\n",
      "   ----------------------- ---------------- 6.6/11.5 MB 281.6 kB/s eta 0:00:18\n",
      "   ----------------------- ---------------- 6.7/11.5 MB 278.8 kB/s eta 0:00:18\n",
      "   ----------------------- ---------------- 6.7/11.5 MB 278.8 kB/s eta 0:00:18\n",
      "   ----------------------- ---------------- 6.7/11.5 MB 278.8 kB/s eta 0:00:18\n",
      "   ----------------------- ---------------- 6.7/11.5 MB 278.8 kB/s eta 0:00:18\n",
      "   ----------------------- ---------------- 6.7/11.5 MB 277.7 kB/s eta 0:00:18\n",
      "   ----------------------- ---------------- 6.7/11.5 MB 277.7 kB/s eta 0:00:18\n",
      "   ----------------------- ---------------- 6.7/11.5 MB 278.1 kB/s eta 0:00:18\n",
      "   ----------------------- ---------------- 6.7/11.5 MB 278.1 kB/s eta 0:00:18\n",
      "   ----------------------- ---------------- 6.7/11.5 MB 277.7 kB/s eta 0:00:18\n",
      "   ----------------------- ---------------- 6.8/11.5 MB 277.9 kB/s eta 0:00:18\n",
      "   ----------------------- ---------------- 6.8/11.5 MB 277.9 kB/s eta 0:00:18\n",
      "   ----------------------- ---------------- 6.8/11.5 MB 277.9 kB/s eta 0:00:18\n",
      "   ----------------------- ---------------- 6.8/11.5 MB 277.9 kB/s eta 0:00:18\n",
      "   ----------------------- ---------------- 6.8/11.5 MB 277.3 kB/s eta 0:00:17\n",
      "   ----------------------- ---------------- 6.8/11.5 MB 277.3 kB/s eta 0:00:17\n",
      "   ----------------------- ---------------- 6.8/11.5 MB 277.3 kB/s eta 0:00:17\n",
      "   ----------------------- ---------------- 6.8/11.5 MB 276.6 kB/s eta 0:00:17\n",
      "   ----------------------- ---------------- 6.8/11.5 MB 276.6 kB/s eta 0:00:17\n",
      "   ----------------------- ---------------- 6.8/11.5 MB 276.6 kB/s eta 0:00:17\n",
      "   ----------------------- ---------------- 6.8/11.5 MB 276.6 kB/s eta 0:00:17\n",
      "   ----------------------- ---------------- 6.8/11.5 MB 275.6 kB/s eta 0:00:17\n",
      "   ----------------------- ---------------- 6.9/11.5 MB 276.3 kB/s eta 0:00:17\n",
      "   ----------------------- ---------------- 6.9/11.5 MB 276.2 kB/s eta 0:00:17\n",
      "   ----------------------- ---------------- 6.9/11.5 MB 276.2 kB/s eta 0:00:17\n",
      "   ----------------------- ---------------- 6.9/11.5 MB 276.2 kB/s eta 0:00:17\n",
      "   ----------------------- ---------------- 6.9/11.5 MB 275.4 kB/s eta 0:00:17\n",
      "   ----------------------- ---------------- 6.9/11.5 MB 275.4 kB/s eta 0:00:17\n",
      "   ------------------------ --------------- 6.9/11.5 MB 275.0 kB/s eta 0:00:17\n",
      "   ------------------------ --------------- 6.9/11.5 MB 275.0 kB/s eta 0:00:17\n",
      "   ------------------------ --------------- 6.9/11.5 MB 275.2 kB/s eta 0:00:17\n",
      "   ------------------------ --------------- 6.9/11.5 MB 275.2 kB/s eta 0:00:17\n",
      "   ------------------------ --------------- 6.9/11.5 MB 275.2 kB/s eta 0:00:17\n",
      "   ------------------------ --------------- 6.9/11.5 MB 275.2 kB/s eta 0:00:17\n",
      "   ------------------------ --------------- 6.9/11.5 MB 275.2 kB/s eta 0:00:17\n",
      "   ------------------------ --------------- 7.0/11.5 MB 272.9 kB/s eta 0:00:17\n",
      "   ------------------------ --------------- 7.0/11.5 MB 273.6 kB/s eta 0:00:17\n",
      "   ------------------------ --------------- 7.0/11.5 MB 273.6 kB/s eta 0:00:17\n",
      "   ------------------------ --------------- 7.0/11.5 MB 273.6 kB/s eta 0:00:17\n",
      "   ------------------------ --------------- 7.0/11.5 MB 273.6 kB/s eta 0:00:17\n",
      "   ------------------------ --------------- 7.0/11.5 MB 273.6 kB/s eta 0:00:17\n",
      "   ------------------------ --------------- 7.0/11.5 MB 271.7 kB/s eta 0:00:17\n",
      "   ------------------------ --------------- 7.0/11.5 MB 271.7 kB/s eta 0:00:17\n",
      "   ------------------------ --------------- 7.0/11.5 MB 271.7 kB/s eta 0:00:17\n",
      "   ------------------------ --------------- 7.0/11.5 MB 271.7 kB/s eta 0:00:17\n",
      "   ------------------------ --------------- 7.0/11.5 MB 270.8 kB/s eta 0:00:17\n",
      "   ------------------------ --------------- 7.0/11.5 MB 270.8 kB/s eta 0:00:17\n",
      "   ------------------------ --------------- 7.0/11.5 MB 270.8 kB/s eta 0:00:17\n",
      "   ------------------------ --------------- 7.0/11.5 MB 270.8 kB/s eta 0:00:17\n",
      "   ------------------------ --------------- 7.0/11.5 MB 270.8 kB/s eta 0:00:17\n",
      "   ------------------------ --------------- 7.0/11.5 MB 270.8 kB/s eta 0:00:17\n",
      "   ------------------------ --------------- 7.0/11.5 MB 270.8 kB/s eta 0:00:17\n",
      "   ------------------------ --------------- 7.0/11.5 MB 270.8 kB/s eta 0:00:17\n",
      "   ------------------------ --------------- 7.1/11.5 MB 268.1 kB/s eta 0:00:17\n",
      "   ------------------------ --------------- 7.1/11.5 MB 268.1 kB/s eta 0:00:17\n",
      "   ------------------------ --------------- 7.1/11.5 MB 268.1 kB/s eta 0:00:17\n",
      "   ------------------------ --------------- 7.1/11.5 MB 268.1 kB/s eta 0:00:17\n",
      "   ------------------------ --------------- 7.1/11.5 MB 268.1 kB/s eta 0:00:17\n",
      "   ------------------------ --------------- 7.1/11.5 MB 266.7 kB/s eta 0:00:17\n",
      "   ------------------------ --------------- 7.1/11.5 MB 266.7 kB/s eta 0:00:17\n",
      "   ------------------------ --------------- 7.1/11.5 MB 266.7 kB/s eta 0:00:17\n",
      "   ------------------------ --------------- 7.1/11.5 MB 267.3 kB/s eta 0:00:17\n",
      "   ------------------------ --------------- 7.1/11.5 MB 267.3 kB/s eta 0:00:17\n",
      "   ------------------------ --------------- 7.1/11.5 MB 266.7 kB/s eta 0:00:17\n",
      "   ------------------------ --------------- 7.1/11.5 MB 266.7 kB/s eta 0:00:17\n",
      "   ------------------------ --------------- 7.1/11.5 MB 266.7 kB/s eta 0:00:17\n",
      "   ------------------------ --------------- 7.1/11.5 MB 266.7 kB/s eta 0:00:17\n",
      "   ------------------------ --------------- 7.1/11.5 MB 266.7 kB/s eta 0:00:17\n",
      "   ------------------------ --------------- 7.1/11.5 MB 266.7 kB/s eta 0:00:17\n",
      "   ------------------------ --------------- 7.1/11.5 MB 266.7 kB/s eta 0:00:17\n",
      "   ------------------------ --------------- 7.2/11.5 MB 264.8 kB/s eta 0:00:17\n",
      "   ------------------------ --------------- 7.2/11.5 MB 265.2 kB/s eta 0:00:17\n",
      "   ------------------------ --------------- 7.2/11.5 MB 265.2 kB/s eta 0:00:17\n",
      "   ------------------------ --------------- 7.2/11.5 MB 265.2 kB/s eta 0:00:17\n",
      "   ------------------------- -------------- 7.2/11.5 MB 264.8 kB/s eta 0:00:17\n",
      "   ------------------------- -------------- 7.2/11.5 MB 264.8 kB/s eta 0:00:17\n",
      "   ------------------------- -------------- 7.2/11.5 MB 264.8 kB/s eta 0:00:17\n",
      "   ------------------------- -------------- 7.2/11.5 MB 264.4 kB/s eta 0:00:17\n",
      "   ------------------------- -------------- 7.2/11.5 MB 264.4 kB/s eta 0:00:17\n",
      "   ------------------------- -------------- 7.2/11.5 MB 264.4 kB/s eta 0:00:17\n",
      "   ------------------------- -------------- 7.2/11.5 MB 264.4 kB/s eta 0:00:17\n",
      "   ------------------------- -------------- 7.2/11.5 MB 264.4 kB/s eta 0:00:17\n",
      "   ------------------------- -------------- 7.3/11.5 MB 263.6 kB/s eta 0:00:17\n",
      "   ------------------------- -------------- 7.3/11.5 MB 263.6 kB/s eta 0:00:17\n",
      "   ------------------------- -------------- 7.3/11.5 MB 263.4 kB/s eta 0:00:16\n",
      "   ------------------------- -------------- 7.3/11.5 MB 263.6 kB/s eta 0:00:16\n",
      "   ------------------------- -------------- 7.3/11.5 MB 263.9 kB/s eta 0:00:16\n",
      "   ------------------------- -------------- 7.4/11.5 MB 265.0 kB/s eta 0:00:16\n",
      "   ------------------------- -------------- 7.4/11.5 MB 265.2 kB/s eta 0:00:16\n",
      "   ------------------------- -------------- 7.4/11.5 MB 265.2 kB/s eta 0:00:16\n",
      "   ------------------------- -------------- 7.4/11.5 MB 265.2 kB/s eta 0:00:16\n",
      "   ------------------------- -------------- 7.4/11.5 MB 265.2 kB/s eta 0:00:16\n",
      "   ------------------------- -------------- 7.4/11.5 MB 265.2 kB/s eta 0:00:16\n",
      "   ------------------------- -------------- 7.4/11.5 MB 265.2 kB/s eta 0:00:16\n",
      "   ------------------------- -------------- 7.4/11.5 MB 265.2 kB/s eta 0:00:16\n",
      "   ------------------------- -------------- 7.4/11.5 MB 265.2 kB/s eta 0:00:16\n",
      "   ------------------------- -------------- 7.4/11.5 MB 265.2 kB/s eta 0:00:16\n",
      "   ------------------------- -------------- 7.4/11.5 MB 265.2 kB/s eta 0:00:16\n",
      "   ------------------------- -------------- 7.4/11.5 MB 265.2 kB/s eta 0:00:16\n",
      "   ------------------------- -------------- 7.4/11.5 MB 265.2 kB/s eta 0:00:16\n",
      "   ------------------------- -------------- 7.4/11.5 MB 261.6 kB/s eta 0:00:16\n",
      "   ------------------------- -------------- 7.4/11.5 MB 261.6 kB/s eta 0:00:16\n",
      "   ------------------------- -------------- 7.4/11.5 MB 261.6 kB/s eta 0:00:16\n",
      "   ------------------------- -------------- 7.4/11.5 MB 261.6 kB/s eta 0:00:16\n",
      "   ------------------------- -------------- 7.4/11.5 MB 261.6 kB/s eta 0:00:16\n",
      "   ------------------------- -------------- 7.4/11.5 MB 261.6 kB/s eta 0:00:16\n",
      "   ------------------------- -------------- 7.4/11.5 MB 261.6 kB/s eta 0:00:16\n",
      "   ------------------------- -------------- 7.5/11.5 MB 259.5 kB/s eta 0:00:16\n",
      "   -------------------------- ------------- 7.5/11.5 MB 260.0 kB/s eta 0:00:16\n",
      "   -------------------------- ------------- 7.5/11.5 MB 260.0 kB/s eta 0:00:16\n",
      "   -------------------------- ------------- 7.5/11.5 MB 260.0 kB/s eta 0:00:16\n",
      "   -------------------------- ------------- 7.5/11.5 MB 260.0 kB/s eta 0:00:16\n",
      "   -------------------------- ------------- 7.5/11.5 MB 259.2 kB/s eta 0:00:16\n",
      "   -------------------------- ------------- 7.5/11.5 MB 259.2 kB/s eta 0:00:16\n",
      "   -------------------------- ------------- 7.5/11.5 MB 259.2 kB/s eta 0:00:16\n",
      "   -------------------------- ------------- 7.5/11.5 MB 259.2 kB/s eta 0:00:16\n",
      "   -------------------------- ------------- 7.5/11.5 MB 258.8 kB/s eta 0:00:16\n",
      "   -------------------------- ------------- 7.5/11.5 MB 258.8 kB/s eta 0:00:16\n",
      "   -------------------------- ------------- 7.5/11.5 MB 258.8 kB/s eta 0:00:16\n",
      "   -------------------------- ------------- 7.5/11.5 MB 258.8 kB/s eta 0:00:16\n",
      "   -------------------------- ------------- 7.5/11.5 MB 258.8 kB/s eta 0:00:16\n",
      "   -------------------------- ------------- 7.5/11.5 MB 258.8 kB/s eta 0:00:16\n",
      "   -------------------------- ------------- 7.5/11.5 MB 258.8 kB/s eta 0:00:16\n",
      "   -------------------------- ------------- 7.5/11.5 MB 258.8 kB/s eta 0:00:16\n",
      "   -------------------------- ------------- 7.5/11.5 MB 258.8 kB/s eta 0:00:16\n",
      "   -------------------------- ------------- 7.5/11.5 MB 258.8 kB/s eta 0:00:16\n",
      "   -------------------------- ------------- 7.6/11.5 MB 255.9 kB/s eta 0:00:16\n",
      "   -------------------------- ------------- 7.6/11.5 MB 255.8 kB/s eta 0:00:16\n",
      "   -------------------------- ------------- 7.6/11.5 MB 255.8 kB/s eta 0:00:16\n",
      "   -------------------------- ------------- 7.6/11.5 MB 255.8 kB/s eta 0:00:16\n",
      "   -------------------------- ------------- 7.6/11.5 MB 255.3 kB/s eta 0:00:16\n",
      "   -------------------------- ------------- 7.6/11.5 MB 255.3 kB/s eta 0:00:16\n",
      "   -------------------------- ------------- 7.6/11.5 MB 255.2 kB/s eta 0:00:16\n",
      "   -------------------------- ------------- 7.6/11.5 MB 255.2 kB/s eta 0:00:16\n",
      "   -------------------------- ------------- 7.6/11.5 MB 255.2 kB/s eta 0:00:16\n",
      "   -------------------------- ------------- 7.6/11.5 MB 255.2 kB/s eta 0:00:16\n",
      "   -------------------------- ------------- 7.6/11.5 MB 255.2 kB/s eta 0:00:16\n",
      "   -------------------------- ------------- 7.6/11.5 MB 255.2 kB/s eta 0:00:16\n",
      "   -------------------------- ------------- 7.6/11.5 MB 255.2 kB/s eta 0:00:16\n",
      "   -------------------------- ------------- 7.6/11.5 MB 254.1 kB/s eta 0:00:16\n",
      "   -------------------------- ------------- 7.6/11.5 MB 254.7 kB/s eta 0:00:16\n",
      "   -------------------------- ------------- 7.6/11.5 MB 254.7 kB/s eta 0:00:16\n",
      "   -------------------------- ------------- 7.6/11.5 MB 254.7 kB/s eta 0:00:16\n",
      "   -------------------------- ------------- 7.6/11.5 MB 254.7 kB/s eta 0:00:16\n",
      "   -------------------------- ------------- 7.6/11.5 MB 254.7 kB/s eta 0:00:16\n",
      "   -------------------------- ------------- 7.6/11.5 MB 254.7 kB/s eta 0:00:16\n",
      "   -------------------------- ------------- 7.6/11.5 MB 254.7 kB/s eta 0:00:16\n",
      "   -------------------------- ------------- 7.6/11.5 MB 254.7 kB/s eta 0:00:16\n",
      "   -------------------------- ------------- 7.6/11.5 MB 254.7 kB/s eta 0:00:16\n",
      "   -------------------------- ------------- 7.6/11.5 MB 254.7 kB/s eta 0:00:16\n",
      "   -------------------------- ------------- 7.6/11.5 MB 254.7 kB/s eta 0:00:16\n",
      "   -------------------------- ------------- 7.6/11.5 MB 254.7 kB/s eta 0:00:16\n",
      "   -------------------------- ------------- 7.6/11.5 MB 254.7 kB/s eta 0:00:16\n",
      "   -------------------------- ------------- 7.7/11.5 MB 250.3 kB/s eta 0:00:16\n",
      "   -------------------------- ------------- 7.7/11.5 MB 250.9 kB/s eta 0:00:16\n",
      "   -------------------------- ------------- 7.7/11.5 MB 250.9 kB/s eta 0:00:16\n",
      "   -------------------------- ------------- 7.7/11.5 MB 250.9 kB/s eta 0:00:16\n",
      "   -------------------------- ------------- 7.7/11.5 MB 250.9 kB/s eta 0:00:16\n",
      "   -------------------------- ------------- 7.7/11.5 MB 250.9 kB/s eta 0:00:16\n",
      "   -------------------------- ------------- 7.7/11.5 MB 250.9 kB/s eta 0:00:16\n",
      "   -------------------------- ------------- 7.7/11.5 MB 248.3 kB/s eta 0:00:16\n",
      "   -------------------------- ------------- 7.7/11.5 MB 248.3 kB/s eta 0:00:16\n",
      "   -------------------------- ------------- 7.7/11.5 MB 248.3 kB/s eta 0:00:16\n",
      "   -------------------------- ------------- 7.7/11.5 MB 248.3 kB/s eta 0:00:16\n",
      "   -------------------------- ------------- 7.7/11.5 MB 248.3 kB/s eta 0:00:16\n",
      "   -------------------------- ------------- 7.7/11.5 MB 248.3 kB/s eta 0:00:16\n",
      "   -------------------------- ------------- 7.7/11.5 MB 248.3 kB/s eta 0:00:16\n",
      "   -------------------------- ------------- 7.7/11.5 MB 246.6 kB/s eta 0:00:16\n",
      "   -------------------------- ------------- 7.7/11.5 MB 246.6 kB/s eta 0:00:16\n",
      "   -------------------------- ------------- 7.7/11.5 MB 246.1 kB/s eta 0:00:16\n",
      "   -------------------------- ------------- 7.7/11.5 MB 246.1 kB/s eta 0:00:16\n",
      "   -------------------------- ------------- 7.7/11.5 MB 246.1 kB/s eta 0:00:16\n",
      "   -------------------------- ------------- 7.8/11.5 MB 245.8 kB/s eta 0:00:16\n",
      "   --------------------------- ------------ 7.8/11.5 MB 245.5 kB/s eta 0:00:16\n",
      "   --------------------------- ------------ 7.8/11.5 MB 245.5 kB/s eta 0:00:16\n",
      "   --------------------------- ------------ 7.8/11.5 MB 245.5 kB/s eta 0:00:16\n",
      "   --------------------------- ------------ 7.8/11.5 MB 245.5 kB/s eta 0:00:16\n",
      "   --------------------------- ------------ 7.8/11.5 MB 245.5 kB/s eta 0:00:16\n",
      "   --------------------------- ------------ 7.8/11.5 MB 245.5 kB/s eta 0:00:16\n",
      "   --------------------------- ------------ 7.8/11.5 MB 245.5 kB/s eta 0:00:16\n",
      "   --------------------------- ------------ 7.8/11.5 MB 245.5 kB/s eta 0:00:16\n",
      "   --------------------------- ------------ 7.8/11.5 MB 245.5 kB/s eta 0:00:16\n",
      "   --------------------------- ------------ 7.8/11.5 MB 240.6 kB/s eta 0:00:16\n",
      "   --------------------------- ------------ 7.8/11.5 MB 240.6 kB/s eta 0:00:16\n",
      "   --------------------------- ------------ 7.8/11.5 MB 240.6 kB/s eta 0:00:16\n",
      "   --------------------------- ------------ 7.8/11.5 MB 240.6 kB/s eta 0:00:16\n",
      "   --------------------------- ------------ 7.8/11.5 MB 239.5 kB/s eta 0:00:16\n",
      "   --------------------------- ------------ 7.8/11.5 MB 239.5 kB/s eta 0:00:16\n",
      "   --------------------------- ------------ 7.8/11.5 MB 239.5 kB/s eta 0:00:16\n",
      "   --------------------------- ------------ 7.8/11.5 MB 239.5 kB/s eta 0:00:16\n",
      "   --------------------------- ------------ 7.9/11.5 MB 237.8 kB/s eta 0:00:16\n",
      "   --------------------------- ------------ 7.9/11.5 MB 237.8 kB/s eta 0:00:16\n",
      "   --------------------------- ------------ 7.9/11.5 MB 237.8 kB/s eta 0:00:16\n",
      "   --------------------------- ------------ 7.9/11.5 MB 237.8 kB/s eta 0:00:16\n",
      "   --------------------------- ------------ 7.9/11.5 MB 237.8 kB/s eta 0:00:16\n",
      "   --------------------------- ------------ 7.9/11.5 MB 237.8 kB/s eta 0:00:16\n",
      "   --------------------------- ------------ 7.9/11.5 MB 237.8 kB/s eta 0:00:16\n",
      "   --------------------------- ------------ 7.9/11.5 MB 230.1 kB/s eta 0:00:16\n",
      "   --------------------------- ------------ 7.9/11.5 MB 230.2 kB/s eta 0:00:16\n",
      "   --------------------------- ------------ 7.9/11.5 MB 228.0 kB/s eta 0:00:16\n",
      "   --------------------------- ------------ 7.9/11.5 MB 228.0 kB/s eta 0:00:16\n",
      "   --------------------------- ------------ 7.9/11.5 MB 228.0 kB/s eta 0:00:16\n",
      "   --------------------------- ------------ 7.9/11.5 MB 228.0 kB/s eta 0:00:16\n",
      "   --------------------------- ------------ 7.9/11.5 MB 228.0 kB/s eta 0:00:16\n",
      "   --------------------------- ------------ 7.9/11.5 MB 228.0 kB/s eta 0:00:16\n",
      "   --------------------------- ------------ 7.9/11.5 MB 228.0 kB/s eta 0:00:16\n",
      "   --------------------------- ------------ 7.9/11.5 MB 228.0 kB/s eta 0:00:16\n",
      "   --------------------------- ------------ 7.9/11.5 MB 223.7 kB/s eta 0:00:16\n",
      "   --------------------------- ------------ 8.0/11.5 MB 223.7 kB/s eta 0:00:16\n",
      "   --------------------------- ------------ 8.0/11.5 MB 223.7 kB/s eta 0:00:16\n",
      "   --------------------------- ------------ 8.0/11.5 MB 223.7 kB/s eta 0:00:16\n",
      "   --------------------------- ------------ 8.0/11.5 MB 223.7 kB/s eta 0:00:16\n",
      "   --------------------------- ------------ 8.0/11.5 MB 223.7 kB/s eta 0:00:16\n",
      "   --------------------------- ------------ 8.0/11.5 MB 223.7 kB/s eta 0:00:16\n",
      "   --------------------------- ------------ 8.0/11.5 MB 216.5 kB/s eta 0:00:17\n",
      "   --------------------------- ------------ 8.0/11.5 MB 216.5 kB/s eta 0:00:17\n",
      "   --------------------------- ------------ 8.0/11.5 MB 216.5 kB/s eta 0:00:17\n",
      "   --------------------------- ------------ 8.0/11.5 MB 216.5 kB/s eta 0:00:17\n",
      "   --------------------------- ------------ 8.0/11.5 MB 216.2 kB/s eta 0:00:17\n",
      "   --------------------------- ------------ 8.0/11.5 MB 216.2 kB/s eta 0:00:17\n",
      "   --------------------------- ------------ 8.0/11.5 MB 216.2 kB/s eta 0:00:17\n",
      "   --------------------------- ------------ 8.0/11.5 MB 216.2 kB/s eta 0:00:17\n",
      "   --------------------------- ------------ 8.0/11.5 MB 216.2 kB/s eta 0:00:17\n",
      "   --------------------------- ------------ 8.0/11.5 MB 216.2 kB/s eta 0:00:17\n",
      "   --------------------------- ------------ 8.0/11.5 MB 212.8 kB/s eta 0:00:17\n",
      "   --------------------------- ------------ 8.0/11.5 MB 212.9 kB/s eta 0:00:17\n",
      "   --------------------------- ------------ 8.0/11.5 MB 212.9 kB/s eta 0:00:17\n",
      "   --------------------------- ------------ 8.0/11.5 MB 212.9 kB/s eta 0:00:17\n",
      "   --------------------------- ------------ 8.0/11.5 MB 212.9 kB/s eta 0:00:17\n",
      "   --------------------------- ------------ 8.0/11.5 MB 212.9 kB/s eta 0:00:17\n",
      "   --------------------------- ------------ 8.0/11.5 MB 212.9 kB/s eta 0:00:17\n",
      "   ---------------------------- ----------- 8.1/11.5 MB 208.2 kB/s eta 0:00:17\n",
      "   ---------------------------- ----------- 8.1/11.5 MB 208.2 kB/s eta 0:00:17\n",
      "   ---------------------------- ----------- 8.1/11.5 MB 207.2 kB/s eta 0:00:17\n",
      "   ---------------------------- ----------- 8.1/11.5 MB 207.2 kB/s eta 0:00:17\n",
      "   ---------------------------- ----------- 8.1/11.5 MB 207.2 kB/s eta 0:00:17\n",
      "   ---------------------------- ----------- 8.1/11.5 MB 207.2 kB/s eta 0:00:17\n",
      "   ---------------------------- ----------- 8.1/11.5 MB 206.6 kB/s eta 0:00:17\n",
      "   ---------------------------- ----------- 8.1/11.5 MB 206.6 kB/s eta 0:00:17\n",
      "   ---------------------------- ----------- 8.1/11.5 MB 206.6 kB/s eta 0:00:17\n",
      "   ---------------------------- ----------- 8.1/11.5 MB 206.6 kB/s eta 0:00:17\n",
      "   ---------------------------- ----------- 8.1/11.5 MB 206.6 kB/s eta 0:00:17\n",
      "   ---------------------------- ----------- 8.1/11.5 MB 206.6 kB/s eta 0:00:17\n",
      "   ---------------------------- ----------- 8.1/11.5 MB 206.6 kB/s eta 0:00:17\n",
      "   ---------------------------- ----------- 8.1/11.5 MB 203.9 kB/s eta 0:00:17\n",
      "   ---------------------------- ----------- 8.1/11.5 MB 203.9 kB/s eta 0:00:17\n",
      "   ---------------------------- ----------- 8.1/11.5 MB 203.9 kB/s eta 0:00:17\n",
      "   ---------------------------- ----------- 8.1/11.5 MB 203.9 kB/s eta 0:00:17\n",
      "   ---------------------------- ----------- 8.1/11.5 MB 203.9 kB/s eta 0:00:17\n",
      "   ---------------------------- ----------- 8.1/11.5 MB 203.9 kB/s eta 0:00:17\n",
      "   ---------------------------- ----------- 8.2/11.5 MB 199.3 kB/s eta 0:00:17\n",
      "   ---------------------------- ----------- 8.2/11.5 MB 199.3 kB/s eta 0:00:17\n",
      "   ---------------------------- ----------- 8.2/11.5 MB 199.3 kB/s eta 0:00:17\n",
      "   ---------------------------- ----------- 8.2/11.5 MB 199.3 kB/s eta 0:00:17\n",
      "   ---------------------------- ----------- 8.2/11.5 MB 199.3 kB/s eta 0:00:17\n",
      "   ---------------------------- ----------- 8.2/11.5 MB 199.3 kB/s eta 0:00:17\n",
      "   ---------------------------- ----------- 8.2/11.5 MB 199.3 kB/s eta 0:00:17\n",
      "   ---------------------------- ----------- 8.2/11.5 MB 189.0 kB/s eta 0:00:18\n",
      "   ---------------------------- ----------- 8.2/11.5 MB 189.0 kB/s eta 0:00:18\n",
      "   ---------------------------- ----------- 8.2/11.5 MB 188.0 kB/s eta 0:00:18\n",
      "   ---------------------------- ----------- 8.2/11.5 MB 188.0 kB/s eta 0:00:18\n",
      "   ---------------------------- ----------- 8.2/11.5 MB 188.0 kB/s eta 0:00:18\n",
      "   ---------------------------- ----------- 8.2/11.5 MB 188.0 kB/s eta 0:00:18\n",
      "   ---------------------------- ----------- 8.2/11.5 MB 188.0 kB/s eta 0:00:18\n",
      "   ---------------------------- ----------- 8.2/11.5 MB 188.0 kB/s eta 0:00:18\n",
      "   ---------------------------- ----------- 8.2/11.5 MB 188.0 kB/s eta 0:00:18\n",
      "   ---------------------------- ----------- 8.2/11.5 MB 188.0 kB/s eta 0:00:18\n",
      "   ---------------------------- ----------- 8.2/11.5 MB 184.5 kB/s eta 0:00:18\n",
      "   ---------------------------- ----------- 8.2/11.5 MB 184.5 kB/s eta 0:00:18\n",
      "   ---------------------------- ----------- 8.2/11.5 MB 184.5 kB/s eta 0:00:18\n",
      "   ---------------------------- ----------- 8.2/11.5 MB 184.5 kB/s eta 0:00:18\n",
      "   ---------------------------- ----------- 8.2/11.5 MB 184.5 kB/s eta 0:00:18\n",
      "   ---------------------------- ----------- 8.2/11.5 MB 183.1 kB/s eta 0:00:18\n",
      "   ---------------------------- ----------- 8.2/11.5 MB 183.1 kB/s eta 0:00:18\n",
      "   ---------------------------- ----------- 8.2/11.5 MB 183.1 kB/s eta 0:00:18\n",
      "   ---------------------------- ----------- 8.2/11.5 MB 183.1 kB/s eta 0:00:18\n",
      "   ---------------------------- ----------- 8.2/11.5 MB 183.1 kB/s eta 0:00:18\n",
      "   ---------------------------- ----------- 8.2/11.5 MB 183.1 kB/s eta 0:00:18\n",
      "   ---------------------------- ----------- 8.2/11.5 MB 183.1 kB/s eta 0:00:18\n",
      "   ---------------------------- ----------- 8.2/11.5 MB 183.1 kB/s eta 0:00:18\n",
      "   ---------------------------- ----------- 8.2/11.5 MB 183.1 kB/s eta 0:00:18\n",
      "   ---------------------------- ----------- 8.3/11.5 MB 180.7 kB/s eta 0:00:18\n",
      "   ---------------------------- ----------- 8.3/11.5 MB 180.7 kB/s eta 0:00:18\n",
      "   ---------------------------- ----------- 8.3/11.5 MB 180.7 kB/s eta 0:00:18\n",
      "   ---------------------------- ----------- 8.3/11.5 MB 180.3 kB/s eta 0:00:18\n",
      "   ---------------------------- ----------- 8.3/11.5 MB 180.3 kB/s eta 0:00:18\n",
      "   ---------------------------- ----------- 8.3/11.5 MB 180.0 kB/s eta 0:00:18\n",
      "   ---------------------------- ----------- 8.3/11.5 MB 180.0 kB/s eta 0:00:18\n",
      "   ---------------------------- ----------- 8.3/11.5 MB 180.0 kB/s eta 0:00:18\n",
      "   ---------------------------- ----------- 8.3/11.5 MB 180.4 kB/s eta 0:00:18\n",
      "   ---------------------------- ----------- 8.3/11.5 MB 180.4 kB/s eta 0:00:18\n",
      "   ---------------------------- ----------- 8.3/11.5 MB 180.4 kB/s eta 0:00:18\n",
      "   ---------------------------- ----------- 8.3/11.5 MB 180.4 kB/s eta 0:00:18\n",
      "   ---------------------------- ----------- 8.3/11.5 MB 180.4 kB/s eta 0:00:18\n",
      "   ---------------------------- ----------- 8.3/11.5 MB 180.4 kB/s eta 0:00:18\n",
      "   ---------------------------- ----------- 8.3/11.5 MB 178.0 kB/s eta 0:00:18\n",
      "   ---------------------------- ----------- 8.3/11.5 MB 178.0 kB/s eta 0:00:18\n",
      "   ----------------------------- ---------- 8.4/11.5 MB 178.5 kB/s eta 0:00:18\n",
      "   ----------------------------- ---------- 8.4/11.5 MB 178.5 kB/s eta 0:00:18\n",
      "   ----------------------------- ---------- 8.4/11.5 MB 178.5 kB/s eta 0:00:18\n",
      "   ----------------------------- ---------- 8.4/11.5 MB 178.5 kB/s eta 0:00:18\n",
      "   ----------------------------- ---------- 8.4/11.5 MB 178.5 kB/s eta 0:00:18\n",
      "   ----------------------------- ---------- 8.4/11.5 MB 177.5 kB/s eta 0:00:18\n",
      "   ----------------------------- ---------- 8.4/11.5 MB 177.5 kB/s eta 0:00:18\n",
      "   ----------------------------- ---------- 8.4/11.5 MB 177.5 kB/s eta 0:00:18\n",
      "   ----------------------------- ---------- 8.4/11.5 MB 177.5 kB/s eta 0:00:18\n",
      "   ----------------------------- ---------- 8.4/11.5 MB 176.2 kB/s eta 0:00:18\n",
      "   ----------------------------- ---------- 8.4/11.5 MB 176.2 kB/s eta 0:00:18\n",
      "   ----------------------------- ---------- 8.4/11.5 MB 176.0 kB/s eta 0:00:18\n",
      "   ----------------------------- ---------- 8.4/11.5 MB 176.1 kB/s eta 0:00:18\n",
      "   ----------------------------- ---------- 8.4/11.5 MB 176.1 kB/s eta 0:00:18\n",
      "   ----------------------------- ---------- 8.4/11.5 MB 176.1 kB/s eta 0:00:18\n",
      "   ----------------------------- ---------- 8.4/11.5 MB 176.1 kB/s eta 0:00:18\n",
      "   ----------------------------- ---------- 8.4/11.5 MB 176.1 kB/s eta 0:00:18\n",
      "   ----------------------------- ---------- 8.5/11.5 MB 171.7 kB/s eta 0:00:18\n",
      "   ----------------------------- ---------- 8.5/11.5 MB 171.7 kB/s eta 0:00:18\n",
      "   ----------------------------- ---------- 8.5/11.5 MB 171.7 kB/s eta 0:00:18\n",
      "   ----------------------------- ---------- 8.5/11.5 MB 171.7 kB/s eta 0:00:18\n",
      "   ----------------------------- ---------- 8.5/11.5 MB 171.7 kB/s eta 0:00:18\n",
      "   ----------------------------- ---------- 8.5/11.5 MB 171.7 kB/s eta 0:00:18\n",
      "   ----------------------------- ---------- 8.5/11.5 MB 171.7 kB/s eta 0:00:18\n",
      "   ----------------------------- ---------- 8.5/11.5 MB 165.0 kB/s eta 0:00:19\n",
      "   ----------------------------- ---------- 8.5/11.5 MB 165.0 kB/s eta 0:00:19\n",
      "   ----------------------------- ---------- 8.5/11.5 MB 163.8 kB/s eta 0:00:19\n",
      "   ----------------------------- ---------- 8.5/11.5 MB 164.4 kB/s eta 0:00:19\n",
      "   ----------------------------- ---------- 8.6/11.5 MB 164.9 kB/s eta 0:00:18\n",
      "   ----------------------------- ---------- 8.6/11.5 MB 164.5 kB/s eta 0:00:18\n",
      "   ----------------------------- ---------- 8.6/11.5 MB 164.5 kB/s eta 0:00:18\n",
      "   ----------------------------- ---------- 8.6/11.5 MB 164.5 kB/s eta 0:00:18\n",
      "   ----------------------------- ---------- 8.6/11.5 MB 164.5 kB/s eta 0:00:18\n",
      "   ----------------------------- ---------- 8.6/11.5 MB 164.5 kB/s eta 0:00:18\n",
      "   ----------------------------- ---------- 8.6/11.5 MB 159.9 kB/s eta 0:00:19\n",
      "   ----------------------------- ---------- 8.6/11.5 MB 159.9 kB/s eta 0:00:19\n",
      "   ----------------------------- ---------- 8.6/11.5 MB 159.9 kB/s eta 0:00:19\n",
      "   ------------------------------ --------- 8.6/11.5 MB 158.9 kB/s eta 0:00:19\n",
      "   ------------------------------ --------- 8.6/11.5 MB 158.9 kB/s eta 0:00:19\n",
      "   ------------------------------ --------- 8.7/11.5 MB 158.2 kB/s eta 0:00:18\n",
      "   ------------------------------ --------- 8.7/11.5 MB 158.2 kB/s eta 0:00:18\n",
      "   ------------------------------ --------- 8.7/11.5 MB 158.1 kB/s eta 0:00:18\n",
      "   ------------------------------ --------- 8.7/11.5 MB 158.1 kB/s eta 0:00:18\n",
      "   ------------------------------ --------- 8.7/11.5 MB 158.1 kB/s eta 0:00:18\n",
      "   ------------------------------ --------- 8.7/11.5 MB 158.1 kB/s eta 0:00:18\n",
      "   ------------------------------ --------- 8.7/11.5 MB 157.5 kB/s eta 0:00:18\n",
      "   ------------------------------ --------- 8.8/11.5 MB 157.7 kB/s eta 0:00:18\n",
      "   ------------------------------ --------- 8.8/11.5 MB 157.3 kB/s eta 0:00:18\n",
      "   ------------------------------ --------- 8.8/11.5 MB 157.3 kB/s eta 0:00:18\n",
      "   ------------------------------ --------- 8.8/11.5 MB 157.3 kB/s eta 0:00:18\n",
      "   ------------------------------ --------- 8.8/11.5 MB 157.3 kB/s eta 0:00:18\n",
      "   ------------------------------ --------- 8.8/11.5 MB 157.3 kB/s eta 0:00:18\n",
      "   ------------------------------ --------- 8.8/11.5 MB 156.8 kB/s eta 0:00:18\n",
      "   ------------------------------ --------- 8.8/11.5 MB 156.8 kB/s eta 0:00:18\n",
      "   ------------------------------ --------- 8.8/11.5 MB 157.2 kB/s eta 0:00:18\n",
      "   ------------------------------ --------- 8.8/11.5 MB 157.2 kB/s eta 0:00:18\n",
      "   ------------------------------ --------- 8.9/11.5 MB 156.3 kB/s eta 0:00:17\n",
      "   ------------------------------ --------- 8.9/11.5 MB 156.3 kB/s eta 0:00:17\n",
      "   ------------------------------ --------- 8.9/11.5 MB 156.3 kB/s eta 0:00:17\n",
      "   ------------------------------ --------- 8.9/11.5 MB 156.3 kB/s eta 0:00:17\n",
      "   ------------------------------ --------- 8.9/11.5 MB 156.7 kB/s eta 0:00:17\n",
      "   ------------------------------ --------- 8.9/11.5 MB 156.8 kB/s eta 0:00:17\n",
      "   ------------------------------ --------- 8.9/11.5 MB 156.5 kB/s eta 0:00:17\n",
      "   ------------------------------ --------- 8.9/11.5 MB 156.5 kB/s eta 0:00:17\n",
      "   ------------------------------ --------- 8.9/11.5 MB 156.5 kB/s eta 0:00:17\n",
      "   ------------------------------- -------- 9.0/11.5 MB 156.8 kB/s eta 0:00:17\n",
      "   ------------------------------- -------- 9.0/11.5 MB 157.5 kB/s eta 0:00:16\n",
      "   ------------------------------- -------- 9.0/11.5 MB 157.5 kB/s eta 0:00:16\n",
      "   ------------------------------- -------- 9.0/11.5 MB 156.3 kB/s eta 0:00:17\n",
      "   ------------------------------- -------- 9.0/11.5 MB 156.3 kB/s eta 0:00:16\n",
      "   ------------------------------- -------- 9.0/11.5 MB 155.3 kB/s eta 0:00:16\n",
      "   ------------------------------- -------- 9.1/11.5 MB 155.3 kB/s eta 0:00:16\n",
      "   ------------------------------- -------- 9.1/11.5 MB 155.3 kB/s eta 0:00:16\n",
      "   ------------------------------- -------- 9.1/11.5 MB 155.3 kB/s eta 0:00:16\n",
      "   ------------------------------- -------- 9.1/11.5 MB 155.3 kB/s eta 0:00:16\n",
      "   ------------------------------- -------- 9.1/11.5 MB 155.3 kB/s eta 0:00:16\n",
      "   ------------------------------- -------- 9.1/11.5 MB 155.3 kB/s eta 0:00:16\n",
      "   ------------------------------- -------- 9.1/11.5 MB 153.4 kB/s eta 0:00:16\n",
      "   ------------------------------- -------- 9.1/11.5 MB 153.8 kB/s eta 0:00:16\n",
      "   ------------------------------- -------- 9.1/11.5 MB 153.8 kB/s eta 0:00:16\n",
      "   ------------------------------- -------- 9.1/11.5 MB 153.8 kB/s eta 0:00:16\n",
      "   ------------------------------- -------- 9.1/11.5 MB 152.4 kB/s eta 0:00:16\n",
      "   ------------------------------- -------- 9.2/11.5 MB 150.9 kB/s eta 0:00:16\n",
      "   ------------------------------- -------- 9.2/11.5 MB 150.9 kB/s eta 0:00:16\n",
      "   ------------------------------- -------- 9.2/11.5 MB 150.9 kB/s eta 0:00:16\n",
      "   ------------------------------- -------- 9.2/11.5 MB 147.8 kB/s eta 0:00:16\n",
      "   ------------------------------- -------- 9.2/11.5 MB 147.8 kB/s eta 0:00:16\n",
      "   ------------------------------- -------- 9.2/11.5 MB 147.8 kB/s eta 0:00:16\n",
      "   -------------------------------- ------- 9.2/11.5 MB 144.4 kB/s eta 0:00:16\n",
      "   -------------------------------- ------- 9.2/11.5 MB 144.4 kB/s eta 0:00:16\n",
      "   -------------------------------- ------- 9.2/11.5 MB 145.4 kB/s eta 0:00:16\n",
      "   -------------------------------- ------- 9.2/11.5 MB 145.4 kB/s eta 0:00:16\n",
      "   -------------------------------- ------- 9.2/11.5 MB 145.4 kB/s eta 0:00:16\n",
      "   -------------------------------- ------- 9.2/11.5 MB 145.4 kB/s eta 0:00:16\n",
      "   -------------------------------- ------- 9.3/11.5 MB 144.5 kB/s eta 0:00:16\n",
      "   -------------------------------- ------- 9.3/11.5 MB 144.6 kB/s eta 0:00:16\n",
      "   -------------------------------- ------- 9.3/11.5 MB 144.6 kB/s eta 0:00:16\n",
      "   -------------------------------- ------- 9.3/11.5 MB 144.6 kB/s eta 0:00:16\n",
      "   -------------------------------- ------- 9.3/11.5 MB 144.6 kB/s eta 0:00:16\n",
      "   -------------------------------- ------- 9.3/11.5 MB 144.7 kB/s eta 0:00:16\n",
      "   -------------------------------- ------- 9.3/11.5 MB 145.3 kB/s eta 0:00:15\n",
      "   -------------------------------- ------- 9.4/11.5 MB 145.7 kB/s eta 0:00:15\n",
      "   -------------------------------- ------- 9.4/11.5 MB 145.7 kB/s eta 0:00:15\n",
      "   -------------------------------- ------- 9.4/11.5 MB 144.8 kB/s eta 0:00:15\n",
      "   -------------------------------- ------- 9.4/11.5 MB 144.8 kB/s eta 0:00:15\n",
      "   -------------------------------- ------- 9.4/11.5 MB 144.8 kB/s eta 0:00:15\n",
      "   -------------------------------- ------- 9.5/11.5 MB 145.9 kB/s eta 0:00:15\n",
      "   -------------------------------- ------- 9.5/11.5 MB 145.9 kB/s eta 0:00:15\n",
      "   -------------------------------- ------- 9.5/11.5 MB 145.9 kB/s eta 0:00:15\n",
      "   -------------------------------- ------- 9.5/11.5 MB 145.9 kB/s eta 0:00:15\n",
      "   -------------------------------- ------- 9.5/11.5 MB 146.1 kB/s eta 0:00:14\n",
      "   --------------------------------- ------ 9.5/11.5 MB 146.2 kB/s eta 0:00:14\n",
      "   --------------------------------- ------ 9.5/11.5 MB 146.2 kB/s eta 0:00:14\n",
      "   --------------------------------- ------ 9.5/11.5 MB 146.2 kB/s eta 0:00:14\n",
      "   --------------------------------- ------ 9.5/11.5 MB 146.2 kB/s eta 0:00:14\n",
      "   --------------------------------- ------ 9.5/11.5 MB 146.2 kB/s eta 0:00:14\n",
      "   --------------------------------- ------ 9.5/11.5 MB 146.2 kB/s eta 0:00:14\n",
      "   --------------------------------- ------ 9.5/11.5 MB 143.9 kB/s eta 0:00:14\n",
      "   --------------------------------- ------ 9.6/11.5 MB 143.9 kB/s eta 0:00:14\n",
      "   --------------------------------- ------ 9.6/11.5 MB 143.9 kB/s eta 0:00:14\n",
      "   --------------------------------- ------ 9.6/11.5 MB 142.0 kB/s eta 0:00:14\n",
      "   --------------------------------- ------ 9.6/11.5 MB 142.0 kB/s eta 0:00:14\n",
      "   --------------------------------- ------ 9.6/11.5 MB 142.5 kB/s eta 0:00:14\n",
      "   --------------------------------- ------ 9.6/11.5 MB 143.4 kB/s eta 0:00:13\n",
      "   --------------------------------- ------ 9.6/11.5 MB 143.4 kB/s eta 0:00:13\n",
      "   --------------------------------- ------ 9.6/11.5 MB 143.4 kB/s eta 0:00:13\n",
      "   --------------------------------- ------ 9.6/11.5 MB 143.4 kB/s eta 0:00:13\n",
      "   --------------------------------- ------ 9.7/11.5 MB 142.9 kB/s eta 0:00:13\n",
      "   --------------------------------- ------ 9.7/11.5 MB 143.5 kB/s eta 0:00:13\n",
      "   --------------------------------- ------ 9.7/11.5 MB 143.7 kB/s eta 0:00:13\n",
      "   ---------------------------------- ----- 9.8/11.5 MB 145.2 kB/s eta 0:00:12\n",
      "   ---------------------------------- ----- 9.8/11.5 MB 145.2 kB/s eta 0:00:12\n",
      "   ---------------------------------- ----- 9.8/11.5 MB 145.2 kB/s eta 0:00:12\n",
      "   ---------------------------------- ----- 9.8/11.5 MB 145.2 kB/s eta 0:00:12\n",
      "   ---------------------------------- ----- 9.8/11.5 MB 145.2 kB/s eta 0:00:12\n",
      "   ---------------------------------- ----- 9.8/11.5 MB 143.3 kB/s eta 0:00:12\n",
      "   ---------------------------------- ----- 9.8/11.5 MB 143.3 kB/s eta 0:00:12\n",
      "   ---------------------------------- ----- 9.8/11.5 MB 143.3 kB/s eta 0:00:12\n",
      "   ---------------------------------- ----- 9.8/11.5 MB 143.3 kB/s eta 0:00:12\n",
      "   ---------------------------------- ----- 9.8/11.5 MB 142.4 kB/s eta 0:00:12\n",
      "   ---------------------------------- ----- 9.8/11.5 MB 142.4 kB/s eta 0:00:12\n",
      "   ---------------------------------- ----- 9.9/11.5 MB 143.9 kB/s eta 0:00:12\n",
      "   ---------------------------------- ----- 9.9/11.5 MB 144.4 kB/s eta 0:00:12\n",
      "   ---------------------------------- ----- 9.9/11.5 MB 144.4 kB/s eta 0:00:12\n",
      "   ---------------------------------- ----- 9.9/11.5 MB 144.4 kB/s eta 0:00:12\n",
      "   ---------------------------------- ----- 9.9/11.5 MB 144.0 kB/s eta 0:00:12\n",
      "   ---------------------------------- ----- 9.9/11.5 MB 145.3 kB/s eta 0:00:11\n",
      "   ---------------------------------- ----- 9.9/11.5 MB 145.3 kB/s eta 0:00:11\n",
      "   ---------------------------------- ----- 9.9/11.5 MB 145.3 kB/s eta 0:00:11\n",
      "   ---------------------------------- ----- 9.9/11.5 MB 145.3 kB/s eta 0:00:11\n",
      "   ---------------------------------- ----- 9.9/11.5 MB 145.3 kB/s eta 0:00:11\n",
      "   ---------------------------------- ----- 9.9/11.5 MB 145.3 kB/s eta 0:00:11\n",
      "   ---------------------------------- ----- 9.9/11.5 MB 145.3 kB/s eta 0:00:11\n",
      "   ---------------------------------- ----- 9.9/11.5 MB 145.3 kB/s eta 0:00:11\n",
      "   ---------------------------------- ----- 9.9/11.5 MB 145.3 kB/s eta 0:00:11\n",
      "   ---------------------------------- ----- 9.9/11.5 MB 145.3 kB/s eta 0:00:11\n",
      "   ---------------------------------- ----- 9.9/11.5 MB 145.3 kB/s eta 0:00:11\n",
      "   ---------------------------------- ----- 9.9/11.5 MB 145.3 kB/s eta 0:00:11\n",
      "   ---------------------------------- ----- 9.9/11.5 MB 145.3 kB/s eta 0:00:11\n",
      "   ---------------------------------- ----- 9.9/11.5 MB 145.3 kB/s eta 0:00:11\n",
      "   ---------------------------------- ----- 9.9/11.5 MB 145.3 kB/s eta 0:00:11\n",
      "   ---------------------------------- ----- 9.9/11.5 MB 145.3 kB/s eta 0:00:11\n",
      "   ---------------------------------- ----- 9.9/11.5 MB 145.3 kB/s eta 0:00:11\n",
      "   ---------------------------------- ----- 9.9/11.5 MB 145.3 kB/s eta 0:00:11\n",
      "   ---------------------------------- ----- 9.9/11.5 MB 145.3 kB/s eta 0:00:11\n",
      "   ---------------------------------- ----- 10.0/11.5 MB 144.9 kB/s eta 0:00:11\n",
      "   ---------------------------------- ----- 10.0/11.5 MB 144.9 kB/s eta 0:00:11\n",
      "   ---------------------------------- ----- 10.0/11.5 MB 144.9 kB/s eta 0:00:11\n",
      "   ---------------------------------- ----- 10.0/11.5 MB 144.9 kB/s eta 0:00:11\n",
      "   ---------------------------------- ----- 10.0/11.5 MB 144.8 kB/s eta 0:00:11\n",
      "   ---------------------------------- ----- 10.0/11.5 MB 144.8 kB/s eta 0:00:11\n",
      "   ---------------------------------- ----- 10.0/11.5 MB 144.8 kB/s eta 0:00:11\n",
      "   ---------------------------------- ----- 10.0/11.5 MB 144.8 kB/s eta 0:00:11\n",
      "   ---------------------------------- ----- 10.0/11.5 MB 144.3 kB/s eta 0:00:11\n",
      "   ---------------------------------- ----- 10.0/11.5 MB 144.3 kB/s eta 0:00:11\n",
      "   ---------------------------------- ----- 10.0/11.5 MB 144.3 kB/s eta 0:00:11\n",
      "   ---------------------------------- ----- 10.1/11.5 MB 144.5 kB/s eta 0:00:11\n",
      "   ---------------------------------- ----- 10.1/11.5 MB 144.5 kB/s eta 0:00:11\n",
      "   ---------------------------------- ----- 10.1/11.5 MB 143.8 kB/s eta 0:00:10\n",
      "   ----------------------------------- ---- 10.1/11.5 MB 144.5 kB/s eta 0:00:10\n",
      "   ----------------------------------- ---- 10.1/11.5 MB 144.5 kB/s eta 0:00:10\n",
      "   ----------------------------------- ---- 10.1/11.5 MB 144.5 kB/s eta 0:00:10\n",
      "   ----------------------------------- ---- 10.1/11.5 MB 144.5 kB/s eta 0:00:10\n",
      "   ----------------------------------- ---- 10.1/11.5 MB 145.3 kB/s eta 0:00:10\n",
      "   ----------------------------------- ---- 10.1/11.5 MB 145.8 kB/s eta 0:00:10\n",
      "   ----------------------------------- ---- 10.1/11.5 MB 145.4 kB/s eta 0:00:10\n",
      "   ----------------------------------- ---- 10.1/11.5 MB 145.4 kB/s eta 0:00:10\n",
      "   ----------------------------------- ---- 10.1/11.5 MB 145.4 kB/s eta 0:00:10\n",
      "   ----------------------------------- ---- 10.1/11.5 MB 145.4 kB/s eta 0:00:10\n",
      "   ----------------------------------- ---- 10.2/11.5 MB 148.7 kB/s eta 0:00:09\n",
      "   ----------------------------------- ---- 10.2/11.5 MB 148.8 kB/s eta 0:00:09\n",
      "   ----------------------------------- ---- 10.2/11.5 MB 148.8 kB/s eta 0:00:09\n",
      "   ----------------------------------- ---- 10.2/11.5 MB 148.8 kB/s eta 0:00:09\n",
      "   ----------------------------------- ---- 10.2/11.5 MB 148.8 kB/s eta 0:00:09\n",
      "   ----------------------------------- ---- 10.2/11.5 MB 148.8 kB/s eta 0:00:09\n",
      "   ----------------------------------- ---- 10.2/11.5 MB 148.8 kB/s eta 0:00:09\n",
      "   ----------------------------------- ---- 10.2/11.5 MB 148.8 kB/s eta 0:00:09\n",
      "   ----------------------------------- ---- 10.2/11.5 MB 148.4 kB/s eta 0:00:09\n",
      "   ----------------------------------- ---- 10.3/11.5 MB 148.8 kB/s eta 0:00:09\n",
      "   ----------------------------------- ---- 10.3/11.5 MB 148.8 kB/s eta 0:00:09\n",
      "   ----------------------------------- ---- 10.3/11.5 MB 148.8 kB/s eta 0:00:09\n",
      "   ----------------------------------- ---- 10.3/11.5 MB 148.8 kB/s eta 0:00:09\n",
      "   ----------------------------------- ---- 10.3/11.5 MB 148.8 kB/s eta 0:00:09\n",
      "   ----------------------------------- ---- 10.3/11.5 MB 148.8 kB/s eta 0:00:09\n",
      "   ----------------------------------- ---- 10.3/11.5 MB 149.0 kB/s eta 0:00:09\n",
      "   ----------------------------------- ---- 10.3/11.5 MB 149.5 kB/s eta 0:00:09\n",
      "   ----------------------------------- ---- 10.3/11.5 MB 149.5 kB/s eta 0:00:09\n",
      "   ----------------------------------- ---- 10.3/11.5 MB 149.5 kB/s eta 0:00:09\n",
      "   ----------------------------------- ---- 10.3/11.5 MB 151.0 kB/s eta 0:00:08\n",
      "   ----------------------------------- ---- 10.4/11.5 MB 151.4 kB/s eta 0:00:08\n",
      "   ----------------------------------- ---- 10.4/11.5 MB 151.4 kB/s eta 0:00:08\n",
      "   ------------------------------------ --- 10.4/11.5 MB 152.0 kB/s eta 0:00:08\n",
      "   ------------------------------------ --- 10.4/11.5 MB 152.0 kB/s eta 0:00:08\n",
      "   ------------------------------------ --- 10.4/11.5 MB 152.7 kB/s eta 0:00:08\n",
      "   ------------------------------------ --- 10.4/11.5 MB 153.2 kB/s eta 0:00:07\n",
      "   ------------------------------------ --- 10.5/11.5 MB 154.9 kB/s eta 0:00:07\n",
      "   ------------------------------------ --- 10.5/11.5 MB 154.9 kB/s eta 0:00:07\n",
      "   ------------------------------------ --- 10.5/11.5 MB 155.8 kB/s eta 0:00:07\n",
      "   ------------------------------------ --- 10.5/11.5 MB 156.6 kB/s eta 0:00:07\n",
      "   ------------------------------------ --- 10.6/11.5 MB 157.4 kB/s eta 0:00:06\n",
      "   ------------------------------------ --- 10.6/11.5 MB 157.4 kB/s eta 0:00:06\n",
      "   ------------------------------------ --- 10.6/11.5 MB 157.4 kB/s eta 0:00:06\n",
      "   ------------------------------------ --- 10.6/11.5 MB 158.2 kB/s eta 0:00:06\n",
      "   ------------------------------------ --- 10.6/11.5 MB 158.7 kB/s eta 0:00:06\n",
      "   ------------------------------------ --- 10.6/11.5 MB 158.9 kB/s eta 0:00:06\n",
      "   ------------------------------------ --- 10.6/11.5 MB 158.9 kB/s eta 0:00:06\n",
      "   ------------------------------------- -- 10.7/11.5 MB 160.0 kB/s eta 0:00:06\n",
      "   ------------------------------------- -- 10.7/11.5 MB 160.0 kB/s eta 0:00:06\n",
      "   ------------------------------------- -- 10.7/11.5 MB 160.0 kB/s eta 0:00:06\n",
      "   ------------------------------------- -- 10.7/11.5 MB 160.0 kB/s eta 0:00:06\n",
      "   ------------------------------------- -- 10.7/11.5 MB 160.0 kB/s eta 0:00:06\n",
      "   ------------------------------------- -- 10.7/11.5 MB 159.9 kB/s eta 0:00:05\n",
      "   ------------------------------------- -- 10.7/11.5 MB 159.9 kB/s eta 0:00:05\n",
      "   ------------------------------------- -- 10.7/11.5 MB 162.5 kB/s eta 0:00:05\n",
      "   ------------------------------------- -- 10.8/11.5 MB 164.0 kB/s eta 0:00:05\n",
      "   ------------------------------------- -- 10.8/11.5 MB 164.0 kB/s eta 0:00:05\n",
      "   ------------------------------------- -- 10.8/11.5 MB 164.0 kB/s eta 0:00:05\n",
      "   ------------------------------------- -- 10.8/11.5 MB 164.0 kB/s eta 0:00:05\n",
      "   ------------------------------------- -- 10.8/11.5 MB 164.0 kB/s eta 0:00:05\n",
      "   ------------------------------------- -- 10.8/11.5 MB 164.0 kB/s eta 0:00:05\n",
      "   ------------------------------------- -- 10.8/11.5 MB 163.6 kB/s eta 0:00:05\n",
      "   ------------------------------------- -- 10.8/11.5 MB 163.6 kB/s eta 0:00:05\n",
      "   ------------------------------------- -- 10.8/11.5 MB 163.7 kB/s eta 0:00:05\n",
      "   ------------------------------------- -- 10.8/11.5 MB 163.7 kB/s eta 0:00:05\n",
      "   ------------------------------------- -- 10.8/11.5 MB 163.7 kB/s eta 0:00:05\n",
      "   ------------------------------------- -- 10.8/11.5 MB 163.8 kB/s eta 0:00:05\n",
      "   ------------------------------------- -- 10.8/11.5 MB 163.8 kB/s eta 0:00:05\n",
      "   ------------------------------------- -- 10.8/11.5 MB 163.8 kB/s eta 0:00:05\n",
      "   ------------------------------------- -- 10.8/11.5 MB 163.8 kB/s eta 0:00:05\n",
      "   ------------------------------------- -- 10.8/11.5 MB 163.8 kB/s eta 0:00:05\n",
      "   ------------------------------------- -- 10.8/11.5 MB 163.8 kB/s eta 0:00:05\n",
      "   ------------------------------------- -- 10.8/11.5 MB 163.8 kB/s eta 0:00:05\n",
      "   ------------------------------------- -- 10.8/11.5 MB 163.8 kB/s eta 0:00:05\n",
      "   ------------------------------------- -- 10.8/11.5 MB 163.8 kB/s eta 0:00:05\n",
      "   ------------------------------------- -- 10.8/11.5 MB 163.8 kB/s eta 0:00:05\n",
      "   ------------------------------------- -- 10.8/11.5 MB 163.8 kB/s eta 0:00:05\n",
      "   ------------------------------------- -- 10.8/11.5 MB 163.8 kB/s eta 0:00:05\n",
      "   ------------------------------------- -- 10.8/11.5 MB 163.8 kB/s eta 0:00:05\n",
      "   ------------------------------------- -- 10.8/11.5 MB 163.8 kB/s eta 0:00:05\n",
      "   ------------------------------------- -- 10.9/11.5 MB 163.3 kB/s eta 0:00:04\n",
      "   ------------------------------------- -- 10.9/11.5 MB 163.3 kB/s eta 0:00:04\n",
      "   ------------------------------------- -- 10.9/11.5 MB 163.3 kB/s eta 0:00:04\n",
      "   ------------------------------------- -- 10.9/11.5 MB 163.3 kB/s eta 0:00:04\n",
      "   ------------------------------------- -- 10.9/11.5 MB 164.8 kB/s eta 0:00:04\n",
      "   ------------------------------------- -- 10.9/11.5 MB 164.8 kB/s eta 0:00:04\n",
      "   ------------------------------------- -- 10.9/11.5 MB 164.8 kB/s eta 0:00:04\n",
      "   ------------------------------------- -- 10.9/11.5 MB 164.8 kB/s eta 0:00:04\n",
      "   ------------------------------------- -- 10.9/11.5 MB 164.8 kB/s eta 0:00:04\n",
      "   ------------------------------------- -- 10.9/11.5 MB 164.8 kB/s eta 0:00:04\n",
      "   ------------------------------------- -- 10.9/11.5 MB 164.4 kB/s eta 0:00:04\n",
      "   ------------------------------------- -- 10.9/11.5 MB 164.4 kB/s eta 0:00:04\n",
      "   ------------------------------------- -- 10.9/11.5 MB 164.4 kB/s eta 0:00:04\n",
      "   ------------------------------------- -- 10.9/11.5 MB 164.4 kB/s eta 0:00:04\n",
      "   ------------------------------------- -- 10.9/11.5 MB 164.4 kB/s eta 0:00:04\n",
      "   ------------------------------------- -- 10.9/11.5 MB 164.4 kB/s eta 0:00:04\n",
      "   -------------------------------------- - 10.9/11.5 MB 165.1 kB/s eta 0:00:04\n",
      "   -------------------------------------- - 11.0/11.5 MB 165.6 kB/s eta 0:00:04\n",
      "   -------------------------------------- - 11.0/11.5 MB 165.6 kB/s eta 0:00:04\n",
      "   -------------------------------------- - 11.0/11.5 MB 165.6 kB/s eta 0:00:04\n",
      "   -------------------------------------- - 11.0/11.5 MB 165.2 kB/s eta 0:00:04\n",
      "   -------------------------------------- - 11.0/11.5 MB 165.2 kB/s eta 0:00:04\n",
      "   -------------------------------------- - 11.0/11.5 MB 165.5 kB/s eta 0:00:04\n",
      "   -------------------------------------- - 11.0/11.5 MB 165.5 kB/s eta 0:00:04\n",
      "   -------------------------------------- - 11.0/11.5 MB 165.5 kB/s eta 0:00:04\n",
      "   -------------------------------------- - 11.0/11.5 MB 165.5 kB/s eta 0:00:04\n",
      "   -------------------------------------- - 11.0/11.5 MB 166.0 kB/s eta 0:00:03\n",
      "   -------------------------------------- - 11.0/11.5 MB 166.0 kB/s eta 0:00:03\n",
      "   -------------------------------------- - 11.0/11.5 MB 165.7 kB/s eta 0:00:03\n",
      "   -------------------------------------- - 11.0/11.5 MB 165.7 kB/s eta 0:00:03\n",
      "   -------------------------------------- - 11.0/11.5 MB 166.5 kB/s eta 0:00:03\n",
      "   -------------------------------------- - 11.0/11.5 MB 166.5 kB/s eta 0:00:03\n",
      "   -------------------------------------- - 11.0/11.5 MB 166.5 kB/s eta 0:00:03\n",
      "   -------------------------------------- - 11.0/11.5 MB 166.5 kB/s eta 0:00:03\n",
      "   -------------------------------------- - 11.0/11.5 MB 165.5 kB/s eta 0:00:03\n",
      "   -------------------------------------- - 11.0/11.5 MB 165.5 kB/s eta 0:00:03\n",
      "   -------------------------------------- - 11.0/11.5 MB 165.5 kB/s eta 0:00:03\n",
      "   -------------------------------------- - 11.1/11.5 MB 166.3 kB/s eta 0:00:03\n",
      "   -------------------------------------- - 11.1/11.5 MB 166.3 kB/s eta 0:00:03\n",
      "   -------------------------------------- - 11.1/11.5 MB 166.3 kB/s eta 0:00:03\n",
      "   -------------------------------------- - 11.1/11.5 MB 166.3 kB/s eta 0:00:03\n",
      "   -------------------------------------- - 11.1/11.5 MB 165.4 kB/s eta 0:00:03\n",
      "   -------------------------------------- - 11.1/11.5 MB 165.4 kB/s eta 0:00:03\n",
      "   -------------------------------------- - 11.1/11.5 MB 165.4 kB/s eta 0:00:03\n",
      "   -------------------------------------- - 11.1/11.5 MB 165.4 kB/s eta 0:00:03\n",
      "   -------------------------------------- - 11.1/11.5 MB 165.4 kB/s eta 0:00:03\n",
      "   -------------------------------------- - 11.1/11.5 MB 165.3 kB/s eta 0:00:03\n",
      "   -------------------------------------- - 11.2/11.5 MB 165.8 kB/s eta 0:00:03\n",
      "   -------------------------------------- - 11.2/11.5 MB 165.8 kB/s eta 0:00:03\n",
      "   -------------------------------------- - 11.2/11.5 MB 165.8 kB/s eta 0:00:03\n",
      "   -------------------------------------- - 11.2/11.5 MB 165.8 kB/s eta 0:00:03\n",
      "   -------------------------------------- - 11.2/11.5 MB 165.0 kB/s eta 0:00:03\n",
      "   -------------------------------------- - 11.2/11.5 MB 165.0 kB/s eta 0:00:03\n",
      "   -------------------------------------- - 11.2/11.5 MB 164.9 kB/s eta 0:00:02\n",
      "   -------------------------------------- - 11.2/11.5 MB 164.9 kB/s eta 0:00:02\n",
      "   -------------------------------------- - 11.2/11.5 MB 164.9 kB/s eta 0:00:02\n",
      "   -------------------------------------- - 11.2/11.5 MB 164.9 kB/s eta 0:00:02\n",
      "   -------------------------------------- - 11.2/11.5 MB 163.8 kB/s eta 0:00:02\n",
      "   -------------------------------------- - 11.2/11.5 MB 163.8 kB/s eta 0:00:02\n",
      "   ---------------------------------------  11.2/11.5 MB 162.9 kB/s eta 0:00:02\n",
      "   ---------------------------------------  11.3/11.5 MB 163.5 kB/s eta 0:00:02\n",
      "   ---------------------------------------  11.3/11.5 MB 162.8 kB/s eta 0:00:02\n",
      "   ---------------------------------------  11.3/11.5 MB 162.8 kB/s eta 0:00:02\n",
      "   ---------------------------------------  11.3/11.5 MB 162.8 kB/s eta 0:00:02\n",
      "   ---------------------------------------  11.3/11.5 MB 162.8 kB/s eta 0:00:02\n",
      "   ---------------------------------------  11.3/11.5 MB 163.0 kB/s eta 0:00:02\n",
      "   ---------------------------------------  11.3/11.5 MB 163.5 kB/s eta 0:00:02\n",
      "   ---------------------------------------  11.3/11.5 MB 163.5 kB/s eta 0:00:02\n",
      "   ---------------------------------------  11.3/11.5 MB 164.4 kB/s eta 0:00:02\n",
      "   ---------------------------------------  11.3/11.5 MB 164.6 kB/s eta 0:00:01\n",
      "   ---------------------------------------  11.3/11.5 MB 164.6 kB/s eta 0:00:01\n",
      "   ---------------------------------------  11.4/11.5 MB 165.0 kB/s eta 0:00:01\n",
      "   ---------------------------------------  11.4/11.5 MB 165.0 kB/s eta 0:00:01\n",
      "   ---------------------------------------  11.4/11.5 MB 163.9 kB/s eta 0:00:01\n",
      "   ---------------------------------------  11.4/11.5 MB 164.5 kB/s eta 0:00:01\n",
      "   ---------------------------------------  11.4/11.5 MB 164.5 kB/s eta 0:00:01\n",
      "   ---------------------------------------  11.4/11.5 MB 164.5 kB/s eta 0:00:01\n",
      "   ---------------------------------------  11.4/11.5 MB 164.5 kB/s eta 0:00:01\n",
      "   ---------------------------------------  11.5/11.5 MB 164.7 kB/s eta 0:00:01\n",
      "   ---------------------------------------  11.5/11.5 MB 165.2 kB/s eta 0:00:01\n",
      "   ---------------------------------------- 11.5/11.5 MB 165.2 kB/s eta 0:00:00\n",
      "Downloading pytz-2025.2-py2.py3-none-any.whl (509 kB)\n",
      "   ---------------------------------------- 0.0/509.2 kB ? eta -:--:--\n",
      "   -- ------------------------------------- 30.7/509.2 kB 1.3 MB/s eta 0:00:01\n",
      "   --- ----------------------------------- 41.0/509.2 kB 960.0 kB/s eta 0:00:01\n",
      "   --- ----------------------------------- 41.0/509.2 kB 960.0 kB/s eta 0:00:01\n",
      "   --- ----------------------------------- 41.0/509.2 kB 960.0 kB/s eta 0:00:01\n",
      "   --- ----------------------------------- 41.0/509.2 kB 960.0 kB/s eta 0:00:01\n",
      "   ---- ---------------------------------- 61.4/509.2 kB 192.5 kB/s eta 0:00:03\n",
      "   ----- --------------------------------- 71.7/509.2 kB 217.9 kB/s eta 0:00:03\n",
      "   ----- --------------------------------- 71.7/509.2 kB 217.9 kB/s eta 0:00:03\n",
      "   ------- ------------------------------ 102.4/509.2 kB 235.7 kB/s eta 0:00:02\n",
      "   ------- ------------------------------ 102.4/509.2 kB 235.7 kB/s eta 0:00:02\n",
      "   ---------- --------------------------- 143.4/509.2 kB 274.5 kB/s eta 0:00:02\n",
      "   ---------- --------------------------- 143.4/509.2 kB 274.5 kB/s eta 0:00:02\n",
      "   ---------- --------------------------- 143.4/509.2 kB 274.5 kB/s eta 0:00:02\n",
      "   ---------- --------------------------- 143.4/509.2 kB 274.5 kB/s eta 0:00:02\n",
      "   ------------ ------------------------- 174.1/509.2 kB 238.1 kB/s eta 0:00:02\n",
      "   ------------- ------------------------ 184.3/509.2 kB 247.6 kB/s eta 0:00:02\n",
      "   --------------- ---------------------- 204.8/509.2 kB 259.4 kB/s eta 0:00:02\n",
      "   --------------- ---------------------- 204.8/509.2 kB 259.4 kB/s eta 0:00:02\n",
      "   --------------- ---------------------- 204.8/509.2 kB 259.4 kB/s eta 0:00:02\n",
      "   --------------- ---------------------- 204.8/509.2 kB 259.4 kB/s eta 0:00:02\n",
      "   --------------- ---------------------- 204.8/509.2 kB 259.4 kB/s eta 0:00:02\n",
      "   --------------- ---------------------- 204.8/509.2 kB 259.4 kB/s eta 0:00:02\n",
      "   ------------------- ------------------ 256.0/509.2 kB 231.2 kB/s eta 0:00:02\n",
      "   ------------------- ------------------ 266.2/509.2 kB 234.0 kB/s eta 0:00:02\n",
      "   ------------------- ------------------ 266.2/509.2 kB 234.0 kB/s eta 0:00:02\n",
      "   ------------------- ------------------ 266.2/509.2 kB 234.0 kB/s eta 0:00:02\n",
      "   ------------------- ------------------ 266.2/509.2 kB 234.0 kB/s eta 0:00:02\n",
      "   ------------------- ------------------ 266.2/509.2 kB 234.0 kB/s eta 0:00:02\n",
      "   ----------------------- -------------- 317.4/509.2 kB 236.9 kB/s eta 0:00:01\n",
      "   ------------------------- ------------ 337.9/509.2 kB 246.7 kB/s eta 0:00:01\n",
      "   ------------------------- ------------ 348.2/509.2 kB 240.2 kB/s eta 0:00:01\n",
      "   ----------------------------- -------- 389.1/509.2 kB 260.8 kB/s eta 0:00:01\n",
      "   ----------------------------- -------- 389.1/509.2 kB 260.8 kB/s eta 0:00:01\n",
      "   ----------------------------- -------- 389.1/509.2 kB 260.8 kB/s eta 0:00:01\n",
      "   ----------------------------- -------- 399.4/509.2 kB 241.7 kB/s eta 0:00:01\n",
      "   ----------------------------- -------- 399.4/509.2 kB 241.7 kB/s eta 0:00:01\n",
      "   -------------------------------- ----- 430.1/509.2 kB 248.7 kB/s eta 0:00:01\n",
      "   -------------------------------- ----- 430.1/509.2 kB 248.7 kB/s eta 0:00:01\n",
      "   -------------------------------- ----- 430.1/509.2 kB 248.7 kB/s eta 0:00:01\n",
      "   -------------------------------- ----- 430.1/509.2 kB 248.7 kB/s eta 0:00:01\n",
      "   ----------------------------------- -- 471.0/509.2 kB 239.8 kB/s eta 0:00:01\n",
      "   ----------------------------------- -- 471.0/509.2 kB 239.8 kB/s eta 0:00:01\n",
      "   ----------------------------------- -- 471.0/509.2 kB 239.8 kB/s eta 0:00:01\n",
      "   ----------------------------------- -- 471.0/509.2 kB 239.8 kB/s eta 0:00:01\n",
      "   ----------------------------------- -- 471.0/509.2 kB 239.8 kB/s eta 0:00:01\n",
      "   ----------------------------------- -- 481.3/509.2 kB 220.0 kB/s eta 0:00:01\n",
      "   ----------------------------------- -- 481.3/509.2 kB 220.0 kB/s eta 0:00:01\n",
      "   -------------------------------------- 509.2/509.2 kB 223.3 kB/s eta 0:00:00\n",
      "Downloading tzdata-2025.2-py2.py3-none-any.whl (347 kB)\n",
      "   ---------------------------------------- 0.0/347.8 kB ? eta -:--:--\n",
      "   ---------------------------------------- 0.0/347.8 kB ? eta -:--:--\n",
      "   ---------------------------------------- 0.0/347.8 kB ? eta -:--:--\n",
      "   - -------------------------------------- 10.2/347.8 kB ? eta -:--:--\n",
      "   --- ----------------------------------- 30.7/347.8 kB 262.6 kB/s eta 0:00:02\n",
      "   --- ----------------------------------- 30.7/347.8 kB 262.6 kB/s eta 0:00:02\n",
      "   --- ----------------------------------- 30.7/347.8 kB 262.6 kB/s eta 0:00:02\n",
      "   --- ----------------------------------- 30.7/347.8 kB 262.6 kB/s eta 0:00:02\n",
      "   ------ -------------------------------- 61.4/347.8 kB 172.4 kB/s eta 0:00:02\n",
      "   ------ -------------------------------- 61.4/347.8 kB 172.4 kB/s eta 0:00:02\n",
      "   ------ -------------------------------- 61.4/347.8 kB 172.4 kB/s eta 0:00:02\n",
      "   ------ -------------------------------- 61.4/347.8 kB 172.4 kB/s eta 0:00:02\n",
      "   ------ -------------------------------- 61.4/347.8 kB 172.4 kB/s eta 0:00:02\n",
      "   ------ -------------------------------- 61.4/347.8 kB 172.4 kB/s eta 0:00:02\n",
      "   ------ -------------------------------- 61.4/347.8 kB 172.4 kB/s eta 0:00:02\n",
      "   ------ -------------------------------- 61.4/347.8 kB 172.4 kB/s eta 0:00:02\n",
      "   ------ -------------------------------- 61.4/347.8 kB 172.4 kB/s eta 0:00:02\n",
      "   ------ -------------------------------- 61.4/347.8 kB 172.4 kB/s eta 0:00:02\n",
      "   -------- ------------------------------- 71.7/347.8 kB 87.4 kB/s eta 0:00:04\n",
      "   -------- ------------------------------- 71.7/347.8 kB 87.4 kB/s eta 0:00:04\n",
      "   -------- ------------------------------- 71.7/347.8 kB 87.4 kB/s eta 0:00:04\n",
      "   -------- ------------------------------- 71.7/347.8 kB 87.4 kB/s eta 0:00:04\n",
      "   -------- ------------------------------- 71.7/347.8 kB 87.4 kB/s eta 0:00:04\n",
      "   -------- ------------------------------- 71.7/347.8 kB 87.4 kB/s eta 0:00:04\n",
      "   -------- ------------------------------- 71.7/347.8 kB 87.4 kB/s eta 0:00:04\n",
      "   ----------- --------------------------- 102.4/347.8 kB 90.7 kB/s eta 0:00:03\n",
      "   ------------- ------------------------ 122.9/347.8 kB 106.0 kB/s eta 0:00:03\n",
      "   ------------- ------------------------ 122.9/347.8 kB 106.0 kB/s eta 0:00:03\n",
      "   ------------- ------------------------ 122.9/347.8 kB 106.0 kB/s eta 0:00:03\n",
      "   ------------- ------------------------ 122.9/347.8 kB 106.0 kB/s eta 0:00:03\n",
      "   ------------- ------------------------ 122.9/347.8 kB 106.0 kB/s eta 0:00:03\n",
      "   ---------------- --------------------- 153.6/347.8 kB 110.5 kB/s eta 0:00:02\n",
      "   ---------------- --------------------- 153.6/347.8 kB 110.5 kB/s eta 0:00:02\n",
      "   -------------------- ----------------- 184.3/347.8 kB 122.4 kB/s eta 0:00:02\n",
      "   -------------------- ----------------- 184.3/347.8 kB 122.4 kB/s eta 0:00:02\n",
      "   -------------------- ----------------- 184.3/347.8 kB 122.4 kB/s eta 0:00:02\n",
      "   -------------------- ----------------- 184.3/347.8 kB 122.4 kB/s eta 0:00:02\n",
      "   -------------------- ----------------- 184.3/347.8 kB 122.4 kB/s eta 0:00:02\n",
      "   -------------------- ----------------- 184.3/347.8 kB 122.4 kB/s eta 0:00:02\n",
      "   ------------------------ ------------- 225.3/347.8 kB 126.3 kB/s eta 0:00:01\n",
      "   ------------------------- ------------ 235.5/347.8 kB 128.7 kB/s eta 0:00:01\n",
      "   ------------------------- ------------ 235.5/347.8 kB 128.7 kB/s eta 0:00:01\n",
      "   ------------------------- ------------ 235.5/347.8 kB 128.7 kB/s eta 0:00:01\n",
      "   ----------------------------- -------- 266.2/347.8 kB 133.2 kB/s eta 0:00:01\n",
      "   ----------------------------- -------- 266.2/347.8 kB 133.2 kB/s eta 0:00:01\n",
      "   ---------------------------------- --- 317.4/347.8 kB 152.4 kB/s eta 0:00:01\n",
      "   ---------------------------------- --- 317.4/347.8 kB 152.4 kB/s eta 0:00:01\n",
      "   ---------------------------------- --- 317.4/347.8 kB 152.4 kB/s eta 0:00:01\n",
      "   ---------------------------------- --- 317.4/347.8 kB 152.4 kB/s eta 0:00:01\n",
      "   ---------------------------------- --- 317.4/347.8 kB 152.4 kB/s eta 0:00:01\n",
      "   ---------------------------------- --- 317.4/347.8 kB 152.4 kB/s eta 0:00:01\n",
      "   ---------------------------------- --- 317.4/347.8 kB 152.4 kB/s eta 0:00:01\n",
      "   -------------------------------------- 347.8/347.8 kB 143.1 kB/s eta 0:00:00\n",
      "Installing collected packages: pytz, tzdata, pandas\n",
      "Successfully installed pandas-2.2.3 pytz-2025.2 tzdata-2025.2\n",
      "Note: you may need to restart the kernel to use updated packages.\n"
     ]
    },
    {
     "name": "stderr",
     "output_type": "stream",
     "text": [
      "\n",
      "[notice] A new release of pip is available: 24.0 -> 25.0.1\n",
=======
      "[notice] A new release of pip is available: 24.0 -> 24.1.1\n",
>>>>>>> 15b41daf74e6f4b3a65d74ab3d34677a9c7890da
      "[notice] To update, run: python.exe -m pip install --upgrade pip\n"
     ]
    }
   ],
<<<<<<< HEAD
   "source": [
    "%pip install selenium\n",
    "%pip install webdriver-manager\n",
    "%pip install pandas"
   ]
=======
   "source": []
>>>>>>> 15b41daf74e6f4b3a65d74ab3d34677a9c7890da
  },
  {
   "attachments": {},
   "cell_type": "markdown",
   "metadata": {
    "collapsed": false,
    "pycharm": {
     "name": "#%% md\n"
    }
   },
   "source": [
    "## 2. Importación de las librerías"
   ]
  },
  {
   "cell_type": "code",
<<<<<<< HEAD
   "execution_count": 118,
=======
   "execution_count": null,
>>>>>>> 15b41daf74e6f4b3a65d74ab3d34677a9c7890da
   "metadata": {
    "collapsed": false,
    "pycharm": {
     "name": "#%%\n"
    }
   },
   "outputs": [],
   "source": [
<<<<<<< HEAD
    "from selenium.webdriver.support.ui import WebDriverWait\n",
    "from selenium.webdriver.support import expected_conditions as EC\n"
=======
    "\n"
>>>>>>> 15b41daf74e6f4b3a65d74ab3d34677a9c7890da
   ]
  },
  {
   "cell_type": "code",
<<<<<<< HEAD
   "execution_count": 119,
   "metadata": {},
   "outputs": [],
   "source": [
    "#Para la manipulación de datos\n",
    "import pandas as pd\n",
    "\n",
    "#Servicio y driver de Chrome de Selenium\n",
    "from selenium import webdriver\n",
    "from selenium.webdriver.chrome.service import Service\n",
    "from webdriver_manager.chrome import ChromeDriverManager\n",
    "\n",
    "#Opciones para buscar elementos\n",
    "from selenium.webdriver.common.by import By\n",
    "\n",
    "#para mandar pulsaciones de teclado\n",
    "from selenium.webdriver.common.keys import Keys\n",
    "\n",
    "#para esperar\n",
    "import time\n"
   ]
=======
   "execution_count": null,
   "metadata": {},
   "outputs": [],
   "source": []
>>>>>>> 15b41daf74e6f4b3a65d74ab3d34677a9c7890da
  },
  {
   "attachments": {},
   "cell_type": "markdown",
   "metadata": {
    "collapsed": false,
    "pycharm": {
     "name": "#%% md\n"
    }
   },
   "source": [
    "## 3. Instalación del webdriver\n",
    "\n",
    "El webdriver es lo que nos va a permitir conectarnos con el navegador. Lo instalamos:"
   ]
  },
  {
<<<<<<< HEAD
=======
   "cell_type": "code",
   "execution_count": null,
   "metadata": {
    "collapsed": false,
    "pycharm": {
     "name": "#%%\n"
    }
   },
   "outputs": [],
   "source": []
  },
  {
>>>>>>> 15b41daf74e6f4b3a65d74ab3d34677a9c7890da
   "attachments": {},
   "cell_type": "markdown",
   "metadata": {
    "collapsed": false,
    "pycharm": {
     "name": "#%% md\n"
    }
   },
   "source": [
    "## 4. Abrir web\n",
    "Abrimos la web en el driver ya podemos navegar y acceder a los elementos de la página"
   ]
  },
  {
   "cell_type": "code",
<<<<<<< HEAD
   "execution_count": 120,
   "metadata": {
    "collapsed": false,
    "pycharm": {
     "name": "#%%\n"
    }
   },
   "outputs": [],
   "source": [
    "service = Service(ChromeDriverManager().install())\n",
    "driver = webdriver.Chrome(service=service)"
   ]
  },
  {
   "cell_type": "code",
   "execution_count": 121,
=======
   "execution_count": null,
>>>>>>> 15b41daf74e6f4b3a65d74ab3d34677a9c7890da
   "metadata": {
    "collapsed": false,
    "pycharm": {
     "is_executing": true,
     "name": "#%%\n"
    }
   },
   "outputs": [],
<<<<<<< HEAD
   "source": [
    "url = \"https://www.filmaffinity.com\"\n",
    "driver.get(url)"
   ]
=======
   "source": []
>>>>>>> 15b41daf74e6f4b3a65d74ab3d34677a9c7890da
  },
  {
   "attachments": {},
   "cell_type": "markdown",
   "metadata": {
    "collapsed": false,
    "pycharm": {
     "name": "#%% md\n"
    }
   },
   "source": [
    "## 5. Scrapeo\n",
    "Empezamos lo interesante:"
   ]
  },
  {
   "attachments": {},
   "cell_type": "markdown",
   "metadata": {
    "collapsed": false,
    "pycharm": {
     "name": "#%% md\n"
    }
   },
   "source": [
    "Podemos acceder a elementos en la página de varias maneras:\n",
    "- Nombre de la etiqueta\n",
    "- Atributo: Clase\n",
    "- Atributo: ID\n",
    "- Atributo: Name\n",
    "- Selector: Xpath\n",
    "- Selector: CSS Selector\n",
    "\n",
    "Para ello vamos a usar el driver que hemos creado y el By."
   ]
  },
  {
   "attachments": {},
   "cell_type": "markdown",
   "metadata": {
    "collapsed": false,
    "pycharm": {
     "name": "#%% md\n"
    }
   },
   "source": [
    "##### Beginner Selenium Cheatsheet:\n",
    "Sacar un elemento:\n",
    "- element = driver.find_element(by, value)\n",
    "\n",
    "Sacar varios elementos:\n",
    "- element = driver.find_elements(by, value)\n",
    "\n",
    "Sacar atributos:\n",
    "- attribute = element.--el atributo--\n",
    "- attribute = element.get_attribute(--el atributo--)\n",
    "\n",
    "Hacer click:\n",
    "- element.click()\n",
    "\n",
    "Teclear:\n",
    "- element.send_keys()\n",
    "\n",
    "Gestión de pestañas:\n",
    "- driver.switch_to.window(driver.window_handles[-1])\n",
    "- driver.get(url)\n",
    "- driver.close()"
   ]
  },
  {
   "attachments": {},
   "cell_type": "markdown",
   "metadata": {
    "collapsed": false,
    "pycharm": {
     "name": "#%% md\n"
    }
   },
   "source": [
    "Vemos que hay un popup pidiendo que aceptemos las cookies. ¡Vamos a aceptarlo!"
   ]
  },
  {
   "cell_type": "code",
<<<<<<< HEAD
   "execution_count": 122,
=======
   "execution_count": null,
>>>>>>> 15b41daf74e6f4b3a65d74ab3d34677a9c7890da
   "metadata": {},
   "outputs": [
    {
     "name": "stdout",
     "output_type": "stream",
     "text": [
      "<class 'list'>\n",
      "socios\n",
      "MÁS OPCIONES\n",
      "NO ACEPTO\n",
      "ACEPTO\n",
      "ACEPTO\n",
<<<<<<< HEAD
      "ACEPTO\n"
     ]
    }
   ],
   "source": [
    "#encontrar elementos por etiqueta HTML\n",
    "elements_by_tag = driver.find_elements(By.TAG_NAME,\"button\")\n",
    "print(type(elements_by_tag))\n",
    "\n",
    "for i in elements_by_tag:\n",
    "    print(i.text)\n",
    "\n",
    "elements_by_class_name = driver.find_element(By.CLASS_NAME,\"css-xlut8b\")\n",
    "print(elements_by_class_name.find_element(By.TAG_NAME,\"SPAN\").text)\n",
    "\n",
    "element_by_xpath = driver.find_element(By.XPATH,'//*[@id=\"accept-btn\"]')\n",
    "print(element_by_xpath.text)"
   ]
=======
      "<selenium.webdriver.remote.webelement.WebElement (session=\"5195180d7155f247eebd88360deeba9c\", element=\"f.E85BED3923B36F741785799DDBBFB4E6.d.72F05DF538D4E6CF13B2A0FAF06FA58D.e.23\")>\n"
     ]
    }
   ],
   "source": []
>>>>>>> 15b41daf74e6f4b3a65d74ab3d34677a9c7890da
  },
  {
   "attachments": {},
   "cell_type": "markdown",
   "metadata": {},
   "source": [
    "### Dos formas de obtener todos los botones"
   ]
  },
  {
   "attachments": {},
   "cell_type": "markdown",
   "metadata": {},
   "source": [
    "Recorriendo la lista"
   ]
  },
  {
   "cell_type": "code",
<<<<<<< HEAD
   "execution_count": 123,
=======
   "execution_count": null,
>>>>>>> 15b41daf74e6f4b3a65d74ab3d34677a9c7890da
   "metadata": {},
   "outputs": [
    {
     "name": "stdout",
     "output_type": "stream",
     "text": [
      "socios\n",
      "MÁS OPCIONES\n",
      "NO ACEPTO\n",
      "ACEPTO\n"
     ]
    }
   ],
<<<<<<< HEAD
   "source": [
    "for i in elements_by_tag:\n",
    "    print(i.text)"
   ]
=======
   "source": []
>>>>>>> 15b41daf74e6f4b3a65d74ab3d34677a9c7890da
  },
  {
   "attachments": {},
   "cell_type": "markdown",
   "metadata": {},
   "source": [
    "Recorriendo los índices"
   ]
  },
  {
   "cell_type": "code",
<<<<<<< HEAD
   "execution_count": 124,
=======
   "execution_count": null,
>>>>>>> 15b41daf74e6f4b3a65d74ab3d34677a9c7890da
   "metadata": {},
   "outputs": [
    {
     "name": "stdout",
     "output_type": "stream",
     "text": [
      "4\n",
      "socios\n",
      "MÁS OPCIONES\n",
      "NO ACEPTO\n",
      "ACEPTO\n"
     ]
    }
   ],
<<<<<<< HEAD
   "source": [
    "print(len(elements_by_tag))\n",
    "for i in range(len(elements_by_tag)):\n",
    "    print(elements_by_tag[i].text)"
   ]
  },
  {
   "cell_type": "code",
   "execution_count": 125,
=======
   "source": []
  },
  {
   "cell_type": "code",
   "execution_count": null,
>>>>>>> 15b41daf74e6f4b3a65d74ab3d34677a9c7890da
   "metadata": {
    "collapsed": false,
    "pycharm": {
     "name": "#%%\n"
    }
   },
<<<<<<< HEAD
   "outputs": [],
   "source": [
    "#Primero selecciono el Boton\n",
    "accept = driver.find_element(By.CLASS_NAME,\"css-xlut8b\")"
   ]
  },
  {
   "cell_type": "code",
   "execution_count": 126,
   "metadata": {},
=======
>>>>>>> 15b41daf74e6f4b3a65d74ab3d34677a9c7890da
   "outputs": [
    {
     "name": "stdout",
     "output_type": "stream",
     "text": [
<<<<<<< HEAD
      "Etiqueta: button\n",
      "Texto: ACEPTO\n",
      "Atributo mode: primary\n",
      "Atributo size: large\n",
      "Atributo class:  css-xlut8b\n"
     ]
    }
   ],
   "source": [
    "#Me aseguro que es el boton que me interesa\n",
    "print(\"Etiqueta: {}\".format(accept.tag_name))\n",
    "print(\"Texto: {}\".format(accept.text))\n",
    "print(\"Atributo mode: {}\".format(accept.get_attribute(\"mode\")))\n",
    "print(\"Atributo size: {}\".format(accept.get_attribute(\"size\")))\n",
    "print(\"Atributo class: {}\".format(accept.get_attribute(\"class\")))"
   ]
  },
  {
   "cell_type": "code",
   "execution_count": 127,
   "metadata": {},
   "outputs": [],
   "source": [
    "accept.click()"
   ]
=======
      "etiqueta : button\n",
      "texto de la etiqueta: primary\n",
      "texto de la etiqueta: large\n"
     ]
    }
   ],
   "source": []
  },
  {
   "cell_type": "code",
   "execution_count": null,
   "metadata": {},
   "outputs": [],
   "source": []
>>>>>>> 15b41daf74e6f4b3a65d74ab3d34677a9c7890da
  },
  {
   "attachments": {},
   "cell_type": "markdown",
   "metadata": {
    "collapsed": false,
    "pycharm": {
     "name": "#%% md\n"
    }
   },
   "source": [
    "Hacemos la búsqueda de una película"
   ]
  },
  {
   "cell_type": "code",
<<<<<<< HEAD
   "execution_count": 128,
=======
   "execution_count": null,
>>>>>>> 15b41daf74e6f4b3a65d74ab3d34677a9c7890da
   "metadata": {},
   "outputs": [
    {
     "data": {
      "text/plain": [
<<<<<<< HEAD
       "<selenium.webdriver.remote.webelement.WebElement (session=\"d39ccf63014b6f164651d67f30b1c3c8\", element=\"f.EC857518941A962CAFF766A016F84855.d.212C1A50239374B6C4AA886F7C0D6222.e.10\")>"
      ]
     },
     "execution_count": 128,
=======
       "<selenium.webdriver.remote.webelement.WebElement (session=\"5195180d7155f247eebd88360deeba9c\", element=\"f.E85BED3923B36F741785799DDBBFB4E6.d.72F05DF538D4E6CF13B2A0FAF06FA58D.e.11\")>"
      ]
     },
     "execution_count": 25,
>>>>>>> 15b41daf74e6f4b3a65d74ab3d34677a9c7890da
     "metadata": {},
     "output_type": "execute_result"
    }
   ],
<<<<<<< HEAD
   "source": [
    "#Busqueda por etiqueta \n",
    "search = driver.find_element(By.TAG_NAME, \"input\")\n",
    "search"
   ]
  },
  {
   "cell_type": "code",
   "execution_count": 129,
=======
   "source": []
  },
  {
   "cell_type": "code",
   "execution_count": null,
>>>>>>> 15b41daf74e6f4b3a65d74ab3d34677a9c7890da
   "metadata": {},
   "outputs": [
    {
     "data": {
      "text/plain": [
<<<<<<< HEAD
       "<selenium.webdriver.remote.webelement.WebElement (session=\"d39ccf63014b6f164651d67f30b1c3c8\", element=\"f.EC857518941A962CAFF766A016F84855.d.212C1A50239374B6C4AA886F7C0D6222.e.10\")>"
      ]
     },
     "execution_count": 129,
=======
       "<selenium.webdriver.remote.webelement.WebElement (session=\"5195180d7155f247eebd88360deeba9c\", element=\"f.E85BED3923B36F741785799DDBBFB4E6.d.72F05DF538D4E6CF13B2A0FAF06FA58D.e.11\")>"
      ]
     },
     "execution_count": 26,
>>>>>>> 15b41daf74e6f4b3a65d74ab3d34677a9c7890da
     "metadata": {},
     "output_type": "execute_result"
    }
   ],
<<<<<<< HEAD
   "source": [
    "#Busqueda por id\n",
    "search = driver.find_element(By.ID, \"top-search-input-2\")\n",
    "search "
   ]
  },
  {
   "cell_type": "code",
   "execution_count": 130,
   "metadata": {},
   "outputs": [],
   "source": [
    "search.send_keys(\"Oblivion\")"
   ]
  },
  {
   "cell_type": "code",
   "execution_count": 131,
   "metadata": {},
   "outputs": [],
   "source": [
    "search.clear()"
   ]
  },
  {
   "cell_type": "code",
   "execution_count": 132,
   "metadata": {},
   "outputs": [
    {
     "data": {
      "text/plain": [
       "True"
      ]
     },
     "execution_count": 132,
     "metadata": {},
     "output_type": "execute_result"
    }
   ],
   "source": [
    "search.screenshot(\"mi_buscador_borrar.png\")"
   ]
  },
  {
   "cell_type": "code",
   "execution_count": 45,
=======
   "source": []
  },
  {
   "cell_type": "code",
   "execution_count": null,
   "metadata": {},
   "outputs": [],
   "source": []
  },
  {
   "cell_type": "code",
   "execution_count": null,
   "metadata": {},
   "outputs": [],
   "source": []
  },
  {
   "cell_type": "code",
   "execution_count": null,
   "metadata": {},
   "outputs": [],
   "source": []
  },
  {
   "cell_type": "code",
   "execution_count": null,
>>>>>>> 15b41daf74e6f4b3a65d74ab3d34677a9c7890da
   "metadata": {
    "collapsed": false,
    "pycharm": {
     "name": "#%%\n"
    }
   },
   "outputs": [
    {
     "data": {
      "text/plain": [
       "True"
      ]
     },
<<<<<<< HEAD
     "execution_count": 45,
=======
     "execution_count": 30,
>>>>>>> 15b41daf74e6f4b3a65d74ab3d34677a9c7890da
     "metadata": {},
     "output_type": "execute_result"
    }
   ],
   "source": [
<<<<<<< HEAD
    "driver.save_screenshot(\"mi_buscador.png\")"
=======
    "\n"
>>>>>>> 15b41daf74e6f4b3a65d74ab3d34677a9c7890da
   ]
  },
  {
   "cell_type": "code",
<<<<<<< HEAD
   "execution_count": 133,
   "metadata": {},
   "outputs": [],
   "source": [
    "search.send_keys(\"Oblivion\")\n",
    "\n",
    "#Esperar 5 segundos para que no me tire la pagina , por si acaso\n",
    "time.sleep(5)\n",
    "\n",
    "#Pulso Enter\n",
    "search.send_keys(Keys.ENTER)"
   ]
  },
  {
   "cell_type": "code",
   "execution_count": 134,
   "metadata": {},
   "outputs": [
    {
     "data": {
      "text/plain": [
       "<selenium.webdriver.remote.webelement.WebElement (session=\"d39ccf63014b6f164651d67f30b1c3c8\", element=\"f.EC857518941A962CAFF766A016F84855.d.330437EAEF10D9E7FA4929958F266AF0.e.46\")>"
      ]
     },
     "execution_count": 134,
     "metadata": {},
     "output_type": "execute_result"
    }
   ],
   "source": [
    "movie = driver.find_elements(By.CLASS_NAME,\"se-it\")[0]\n",
    "\n",
    "movie = driver.find_element(By.CLASS_NAME,\"se-it\")\n",
    "movie"
   ]
=======
   "execution_count": null,
   "metadata": {},
   "outputs": [],
   "source": []
>>>>>>> 15b41daf74e6f4b3a65d74ab3d34677a9c7890da
  },
  {
   "attachments": {},
   "cell_type": "markdown",
   "metadata": {
    "collapsed": false,
    "pycharm": {
     "name": "#%% md\n"
    }
   },
   "source": [
    "Entramos en el primer resultado"
   ]
  },
  {
   "cell_type": "code",
<<<<<<< HEAD
   "execution_count": 135,
=======
   "execution_count": null,
>>>>>>> 15b41daf74e6f4b3a65d74ab3d34677a9c7890da
   "metadata": {
    "collapsed": false,
    "pycharm": {
     "name": "#%%\n"
    }
   },
   "outputs": [
    {
     "data": {
      "text/plain": [
<<<<<<< HEAD
       "<selenium.webdriver.remote.webelement.WebElement (session=\"d39ccf63014b6f164651d67f30b1c3c8\", element=\"f.EC857518941A962CAFF766A016F84855.d.330437EAEF10D9E7FA4929958F266AF0.e.46\")>"
      ]
     },
     "execution_count": 135,
=======
       "<selenium.webdriver.remote.webelement.WebElement (session=\"5195180d7155f247eebd88360deeba9c\", element=\"f.E85BED3923B36F741785799DDBBFB4E6.d.00C4F0EDA719850CB2E9844A0AC15EA6.e.7152\")>"
      ]
     },
     "execution_count": 33,
>>>>>>> 15b41daf74e6f4b3a65d74ab3d34677a9c7890da
     "metadata": {},
     "output_type": "execute_result"
    }
   ],
<<<<<<< HEAD
   "source": [
    "movie"
   ]
  },
  {
   "cell_type": "code",
   "execution_count": 136,
   "metadata": {},
   "outputs": [
    {
     "name": "stdout",
     "output_type": "stream",
     "text": [
      "https://www.filmaffinity.com/es/film618375.html\n",
      "https://www.filmaffinity.com/es/film618375.html\n"
     ]
    }
   ],
   "source": [
    "#accedemos mediante un selector CSS, espacios en blanco se cambia por .\n",
    "url = movie.find_element(By.CSS_SELECTOR,\"div.fs-6.mc-title a\")\n",
    "print(url.get_attribute(\"href\"))\n",
    "\n",
    "url = movie.find_element(By.CSS_SELECTOR,\"div.col.position-relative.mc-info-container a\")\n",
    "print(url.get_attribute(\"href\"))\n"
=======
   "source": []
  },
  {
   "cell_type": "code",
   "execution_count": null,
   "metadata": {},
   "outputs": [],
   "source": [
    "\n"
>>>>>>> 15b41daf74e6f4b3a65d74ab3d34677a9c7890da
   ]
  },
  {
   "cell_type": "code",
<<<<<<< HEAD
   "execution_count": 137,
=======
   "execution_count": null,
>>>>>>> 15b41daf74e6f4b3a65d74ab3d34677a9c7890da
   "metadata": {},
   "outputs": [
    {
     "data": {
      "text/plain": [
       "'Oblivion'"
      ]
     },
<<<<<<< HEAD
     "execution_count": 137,
=======
     "execution_count": 36,
>>>>>>> 15b41daf74e6f4b3a65d74ab3d34677a9c7890da
     "metadata": {},
     "output_type": "execute_result"
    }
   ],
<<<<<<< HEAD
   "source": [
    "url_titulo = movie.find_element(By.CLASS_NAME,\"fs-6.mc-title\")\n",
    "url = url_titulo.find_element(By.TAG_NAME,\"a\")\n",
    "url.text\n"
   ]
  },
  {
   "cell_type": "code",
   "execution_count": 138,
   "metadata": {},
   "outputs": [],
   "source": [
    "url_poster = movie.find_element(By.CLASS_NAME,value=\"fs-6.mc-title\")\n",
    "url = url_poster.find_element(By.TAG_NAME,\"a\")"
   ]
  },
  {
   "cell_type": "code",
   "execution_count": 139,
=======
   "source": []
  },
  {
   "cell_type": "code",
   "execution_count": null,
   "metadata": {},
   "outputs": [],
   "source": []
  },
  {
   "cell_type": "code",
   "execution_count": null,
>>>>>>> 15b41daf74e6f4b3a65d74ab3d34677a9c7890da
   "metadata": {},
   "outputs": [
    {
     "name": "stdout",
     "output_type": "stream",
     "text": [
      "https://www.filmaffinity.com/es/film618375.html\n"
     ]
    }
   ],
<<<<<<< HEAD
   "source": [
    "link = url.get_attribute(\"href\")\n",
    "print(link)"
   ]
  },
  {
   "cell_type": "code",
   "execution_count": 140,
   "metadata": {},
   "outputs": [],
   "source": [
    "url.click()"
   ]
  },
  {
   "cell_type": "code",
   "execution_count": 141,
   "metadata": {},
   "outputs": [
    {
     "name": "stdout",
     "output_type": "stream",
     "text": [
      "{'Título original': 'Oblivion', 'Año': '2013', 'Duración': '126 min.', 'País': ' Estados Unidos', 'Dirección': 'Joseph Kosinski', 'Guion': 'Joseph Kosinski, Michael Arndt, Karl Gajdusek. Cómic: Joseph Kosinski, Arvid Nelson', 'Reparto': 'Tom Cruise\\nAndrea Riseborough\\nOlga Kurylenko\\nMorgan Freeman\\nNikolaj Coster-Waldau\\nZoe Bell', 'Música': 'Anthony Gonzalez, M83, Joseph Trapanese', 'Fotografía': 'Claudio Miranda', 'Compañías': 'Universal Pictures, Chernin Entertainment, Relativity Studios, Monolith Pictures, Radical Studios', 'Género': 'Ciencia ficción. Intriga | Futuro postapocalíptico. Distopía. Cómic', 'Sinopsis': 'Año 2073. Hace más de 60 años la Tierra fue atacada; se ganó la guerra, pero la mitad del planeta quedó destruido, y todos los seres humanos fueron evacuados. Jack Harper (Tom Cruise), un antiguo marine, es uno de los últimos hombres que la habitan. Es un ingeniero de Drones que participa en una operación para extraer los recursos vitales del planeta. Su misión consiste en patrullar diariamente los cielos. Un día, rescata a una desconocida de una nave espacial y, entonces, se ve obligado a replantearse sus convicciones más profundas. (FILMAFFINITY)'}\n"
     ]
    }
   ],
   "source": [
    "movie_info = driver.find_element(By.CLASS_NAME,\"movie-info\")\n",
    "dt = movie_info.find_elements(By.TAG_NAME,\"dt\")\n",
    "dd = movie_info.find_elements(By.TAG_NAME,\"dd\")\n",
    "dicc = {}\n",
    "for i in range(len(dt)):\n",
    "    dicc[dt[i].text] = dd[i].text\n",
    "print(dicc)"
   ]
=======
   "source": []
  },
  {
   "cell_type": "code",
   "execution_count": null,
   "metadata": {},
   "outputs": [],
   "source": []
  },
  {
   "cell_type": "code",
   "execution_count": null,
   "metadata": {},
   "outputs": [],
   "source": []
>>>>>>> 15b41daf74e6f4b3a65d74ab3d34677a9c7890da
  },
  {
   "attachments": {},
   "cell_type": "markdown",
   "metadata": {
    "collapsed": false,
    "pycharm": {
     "name": "#%% md\n"
    }
   },
   "source": [
    "Vamos a sacar los datos principales de la película:"
   ]
  },
  {
   "cell_type": "code",
<<<<<<< HEAD
   "execution_count": 142,
=======
   "execution_count": null,
>>>>>>> 15b41daf74e6f4b3a65d74ab3d34677a9c7890da
   "metadata": {
    "collapsed": false,
    "pycharm": {
     "name": "#%%\n"
    }
   },
   "outputs": [
    {
<<<<<<< HEAD
=======
     "name": "stdout",
     "output_type": "stream",
     "text": [
      "Título original - Oblivion\n",
      "Año - 2013\n",
      "Duración - 126 min.\n",
      "País -  Estados Unidos\n",
      "Dirección - Joseph Kosinski\n",
      "Guion - Joseph Kosinski, Michael Arndt, Karl Gajdusek. Cómic: Joseph Kosinski, Arvid Nelson\n",
      "Reparto - Tom Cruise\n",
      "Andrea Riseborough\n",
      "Olga Kurylenko\n",
      "Morgan Freeman\n",
      "Nikolaj Coster-Waldau\n",
      "Zoe Bell\n",
      "Música - Anthony Gonzalez, M83, Joseph Trapanese\n",
      "Fotografía - Claudio Miranda\n",
      "Compañías - Universal Pictures, Chernin Entertainment, Relativity Studios, Monolith Pictures, Radical Studios\n",
      "Género - Ciencia ficción. Intriga | Futuro postapocalíptico. Distopía. Cómic\n",
      "Sinopsis - Año 2073. Hace más de 60 años la Tierra fue atacada; se ganó la guerra, pero la mitad del planeta quedó destruido, y todos los seres humanos fueron evacuados. Jack Harper (Tom Cruise), un antiguo marine, es uno de los últimos hombres que la habitan. Es un ingeniero de Drones que participa en una operación para extraer los recursos vitales del planeta. Su misión consiste en patrullar diariamente los cielos. Un día, rescata a una desconocida de una nave espacial y, entonces, se ve obligado a replantearse sus convicciones más profundas. (FILMAFFINITY)\n"
     ]
    }
   ],
   "source": []
  },
  {
   "cell_type": "code",
   "execution_count": null,
   "metadata": {},
   "outputs": [
    {
>>>>>>> 15b41daf74e6f4b3a65d74ab3d34677a9c7890da
     "data": {
      "text/plain": [
       "{'Título original': 'Oblivion',\n",
       " 'Año': '2013',\n",
       " 'Duración': '126 min.',\n",
       " 'País': ' Estados Unidos',\n",
       " 'Dirección': 'Joseph Kosinski',\n",
       " 'Guion': 'Joseph Kosinski, Michael Arndt, Karl Gajdusek. Cómic: Joseph Kosinski, Arvid Nelson',\n",
       " 'Reparto': 'Tom Cruise\\nAndrea Riseborough\\nOlga Kurylenko\\nMorgan Freeman\\nNikolaj Coster-Waldau\\nZoe Bell',\n",
       " 'Música': 'Anthony Gonzalez, M83, Joseph Trapanese',\n",
       " 'Fotografía': 'Claudio Miranda',\n",
       " 'Compañías': 'Universal Pictures, Chernin Entertainment, Relativity Studios, Monolith Pictures, Radical Studios',\n",
       " 'Género': 'Ciencia ficción. Intriga | Futuro postapocalíptico. Distopía. Cómic',\n",
       " 'Sinopsis': 'Año 2073. Hace más de 60 años la Tierra fue atacada; se ganó la guerra, pero la mitad del planeta quedó destruido, y todos los seres humanos fueron evacuados. Jack Harper (Tom Cruise), un antiguo marine, es uno de los últimos hombres que la habitan. Es un ingeniero de Drones que participa en una operación para extraer los recursos vitales del planeta. Su misión consiste en patrullar diariamente los cielos. Un día, rescata a una desconocida de una nave espacial y, entonces, se ve obligado a replantearse sus convicciones más profundas. (FILMAFFINITY)'}"
      ]
     },
<<<<<<< HEAD
     "execution_count": 142,
=======
     "execution_count": 41,
>>>>>>> 15b41daf74e6f4b3a65d74ab3d34677a9c7890da
     "metadata": {},
     "output_type": "execute_result"
    }
   ],
<<<<<<< HEAD
   "source": [
    "dicc"
   ]
  },
  {
   "cell_type": "code",
   "execution_count": 143,
   "metadata": {},
   "outputs": [
    {
     "data": {
      "text/plain": [
       "{'Título original': 'Oblivion',\n",
       " 'Año': '2013',\n",
       " 'Duración': '126 min.',\n",
       " 'País': ' Estados Unidos',\n",
       " 'Dirección': 'Joseph Kosinski',\n",
       " 'Guion': 'Joseph Kosinski, Michael Arndt, Karl Gajdusek. Cómic: Joseph Kosinski, Arvid Nelson',\n",
       " 'Reparto': 'Tom Cruise, Andrea Riseborough, Olga Kurylenko, Morgan Freeman, Nikolaj Coster-Waldau, Zoe Bell',\n",
       " 'Música': 'Anthony Gonzalez, M83, Joseph Trapanese',\n",
       " 'Fotografía': 'Claudio Miranda',\n",
       " 'Compañías': 'Universal Pictures, Chernin Entertainment, Relativity Studios, Monolith Pictures, Radical Studios',\n",
       " 'Género': 'Ciencia ficción. Intriga | Futuro postapocalíptico. Distopía. Cómic',\n",
       " 'Sinopsis': 'Año 2073. Hace más de 60 años la Tierra fue atacada; se ganó la guerra, pero la mitad del planeta quedó destruido, y todos los seres humanos fueron evacuados. Jack Harper (Tom Cruise), un antiguo marine, es uno de los últimos hombres que la habitan. Es un ingeniero de Drones que participa en una operación para extraer los recursos vitales del planeta. Su misión consiste en patrullar diariamente los cielos. Un día, rescata a una desconocida de una nave espacial y, entonces, se ve obligado a replantearse sus convicciones más profundas. (FILMAFFINITY)'}"
      ]
     },
     "execution_count": 143,
     "metadata": {},
     "output_type": "execute_result"
    }
   ],
   "source": [
    "dicc[\"Título original\"] = dicc[\"Título original\"].replace(\"\\n\",\"\")\n",
    "dicc[\"Reparto\"] = dicc[\"Reparto\"].replace(\"\\n\",\", \")\n",
    "dicc"
   ]
=======
   "source": []
>>>>>>> 15b41daf74e6f4b3a65d74ab3d34677a9c7890da
  },
  {
   "attachments": {},
   "cell_type": "markdown",
   "metadata": {},
   "source": [
    "#### Creamos un dataframe"
   ]
  },
  {
   "cell_type": "code",
<<<<<<< HEAD
   "execution_count": 144,
   "metadata": {},
   "outputs": [],
   "source": [
    "df = pd.DataFrame([dicc])\n"
=======
   "execution_count": null,
   "metadata": {},
   "outputs": [],
   "source": [
    "\n"
>>>>>>> 15b41daf74e6f4b3a65d74ab3d34677a9c7890da
   ]
  },
  {
   "cell_type": "code",
<<<<<<< HEAD
   "execution_count": 145,
=======
   "execution_count": null,
>>>>>>> 15b41daf74e6f4b3a65d74ab3d34677a9c7890da
   "metadata": {},
   "outputs": [
    {
     "data": {
      "text/html": [
       "<div>\n",
       "<style scoped>\n",
       "    .dataframe tbody tr th:only-of-type {\n",
       "        vertical-align: middle;\n",
       "    }\n",
       "\n",
       "    .dataframe tbody tr th {\n",
       "        vertical-align: top;\n",
       "    }\n",
       "\n",
       "    .dataframe thead th {\n",
       "        text-align: right;\n",
       "    }\n",
       "</style>\n",
       "<table border=\"1\" class=\"dataframe\">\n",
       "  <thead>\n",
       "    <tr style=\"text-align: right;\">\n",
       "      <th></th>\n",
       "      <th>Título original</th>\n",
       "      <th>Año</th>\n",
       "      <th>Duración</th>\n",
       "      <th>País</th>\n",
       "      <th>Dirección</th>\n",
       "      <th>Guion</th>\n",
       "      <th>Reparto</th>\n",
       "      <th>Música</th>\n",
       "      <th>Fotografía</th>\n",
       "      <th>Compañías</th>\n",
       "      <th>Género</th>\n",
       "      <th>Sinopsis</th>\n",
       "    </tr>\n",
       "  </thead>\n",
       "  <tbody>\n",
       "    <tr>\n",
       "      <th>0</th>\n",
       "      <td>Oblivion</td>\n",
       "      <td>2013</td>\n",
       "      <td>126 min.</td>\n",
       "      <td>Estados Unidos</td>\n",
       "      <td>Joseph Kosinski</td>\n",
       "      <td>Joseph Kosinski, Michael Arndt, Karl Gajdusek....</td>\n",
<<<<<<< HEAD
       "      <td>Tom Cruise, Andrea Riseborough, Olga Kurylenko...</td>\n",
=======
       "      <td>Tom Cruise\\nAndrea Riseborough\\nOlga Kurylenko...</td>\n",
>>>>>>> 15b41daf74e6f4b3a65d74ab3d34677a9c7890da
       "      <td>Anthony Gonzalez, M83, Joseph Trapanese</td>\n",
       "      <td>Claudio Miranda</td>\n",
       "      <td>Universal Pictures, Chernin Entertainment, Rel...</td>\n",
       "      <td>Ciencia ficción. Intriga | Futuro postapocalíp...</td>\n",
       "      <td>Año 2073. Hace más de 60 años la Tierra fue at...</td>\n",
       "    </tr>\n",
       "  </tbody>\n",
       "</table>\n",
       "</div>"
      ],
      "text/plain": [
       "  Título original   Año  Duración             País        Dirección  \\\n",
       "0        Oblivion  2013  126 min.   Estados Unidos  Joseph Kosinski   \n",
       "\n",
       "                                               Guion  \\\n",
       "0  Joseph Kosinski, Michael Arndt, Karl Gajdusek....   \n",
       "\n",
       "                                             Reparto  \\\n",
<<<<<<< HEAD
       "0  Tom Cruise, Andrea Riseborough, Olga Kurylenko...   \n",
=======
       "0  Tom Cruise\\nAndrea Riseborough\\nOlga Kurylenko...   \n",
>>>>>>> 15b41daf74e6f4b3a65d74ab3d34677a9c7890da
       "\n",
       "                                    Música       Fotografía  \\\n",
       "0  Anthony Gonzalez, M83, Joseph Trapanese  Claudio Miranda   \n",
       "\n",
       "                                           Compañías  \\\n",
       "0  Universal Pictures, Chernin Entertainment, Rel...   \n",
       "\n",
       "                                              Género  \\\n",
       "0  Ciencia ficción. Intriga | Futuro postapocalíp...   \n",
       "\n",
       "                                            Sinopsis  \n",
       "0  Año 2073. Hace más de 60 años la Tierra fue at...  "
      ]
     },
<<<<<<< HEAD
     "execution_count": 145,
=======
     "execution_count": 43,
>>>>>>> 15b41daf74e6f4b3a65d74ab3d34677a9c7890da
     "metadata": {},
     "output_type": "execute_result"
    }
   ],
<<<<<<< HEAD
   "source": [
    "df"
   ]
=======
   "source": []
>>>>>>> 15b41daf74e6f4b3a65d74ab3d34677a9c7890da
  },
  {
   "attachments": {},
   "cell_type": "markdown",
   "metadata": {},
   "source": [
    "#### EXTRA"
   ]
  },
  {
   "attachments": {},
   "cell_type": "markdown",
   "metadata": {},
   "source": [
    "Abrir nueva ventana:"
   ]
  },
  {
   "cell_type": "code",
<<<<<<< HEAD
   "execution_count": 146,
   "metadata": {},
   "outputs": [],
   "source": [
    "driver.execute_script(\"window.open('');\")"
   ]
=======
   "execution_count": null,
   "metadata": {},
   "outputs": [],
   "source": []
>>>>>>> 15b41daf74e6f4b3a65d74ab3d34677a9c7890da
  },
  {
   "attachments": {},
   "cell_type": "markdown",
   "metadata": {},
   "source": [
    "Movernos a otra ventana"
   ]
  },
  {
   "cell_type": "code",
<<<<<<< HEAD
   "execution_count": 147,
   "metadata": {},
   "outputs": [],
   "source": [
    "\n",
    "driver.switch_to.window(driver.window_handles[1])"
   ]
=======
   "execution_count": null,
   "metadata": {},
   "outputs": [],
   "source": []
>>>>>>> 15b41daf74e6f4b3a65d74ab3d34677a9c7890da
  },
  {
   "attachments": {},
   "cell_type": "markdown",
   "metadata": {},
   "source": [
    "Cerrar ventana"
   ]
  },
  {
   "cell_type": "code",
<<<<<<< HEAD
   "execution_count": 148,
   "metadata": {},
   "outputs": [],
   "source": [
    "url = \"https://www.idealista.com\"\n",
    "driver.get(url)"
   ]
  },
  {
   "cell_type": "code",
   "execution_count": 157,
   "metadata": {},
   "outputs": [],
   "source": [
    "accept = driver.find_element(By.ID,\"didomi-notice-agree-button\")\n",
    "accept.click()"
   ]
  },
  {
   "cell_type": "code",
   "execution_count": 161,
   "metadata": {},
   "outputs": [],
   "source": [
    "localidad = driver.find_element(By.XPATH,'//*[@id=\"campoBus\"]')\n",
    "localidad.send_keys(\"Mislata\")"
   ]
  },
  {
   "cell_type": "code",
   "execution_count": 162,
   "metadata": {},
   "outputs": [],
   "source": [
    "driver.close()"
   ]
  },
  {
   "cell_type": "code",
=======
>>>>>>> 15b41daf74e6f4b3a65d74ab3d34677a9c7890da
   "execution_count": null,
   "metadata": {},
   "outputs": [],
   "source": []
  }
 ],
 "metadata": {
  "kernelspec": {
   "display_name": "Python 3",
   "language": "python",
   "name": "python3"
  },
  "language_info": {
   "codemirror_mode": {
    "name": "ipython",
    "version": 3
   },
   "file_extension": ".py",
   "mimetype": "text/x-python",
   "name": "python",
   "nbconvert_exporter": "python",
   "pygments_lexer": "ipython3",
   "version": "3.12.3"
  },
  "vscode": {
   "interpreter": {
    "hash": "252189e587d1e2aeba4a06e91fa71896c7a7f6e22e918b9407c7cde4ef2d5985"
   }
  }
 },
 "nbformat": 4,
 "nbformat_minor": 0
}
