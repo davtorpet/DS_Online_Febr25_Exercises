{
 "cells": [
  {
   "cell_type": "markdown",
   "id": "f9a50a3f",
   "metadata": {},
   "source": [
    "# **Masterclass: Business Intelligence - Looker Studio**"
   ]
  },
  {
   "cell_type": "markdown",
   "id": "67d364c4",
   "metadata": {},
   "source": [
    "## ¿Qué es Business Intelligence (BI)?\n",
    "> Business Intelligence (BI) es un conjunto de procesos tecnológicos para recopilar, gestionar y analizar datos organizacionales con el fin de generar información que sirva de base para estrategias y operaciones comerciales.\n",
    "\n",
    "Fuente: [IBM](https://www.ibm.com/topics/business-intelligence)\n"
   ]
  },
  {
   "cell_type": "markdown",
   "id": "76cd0907",
   "metadata": {},
   "source": [
    "## Objetivos de los Sistemas de Información en BI\n",
    "- **Sistema de Información (SI):** conjunto de elementos organizados para tratar datos e información con un propósito.\n",
    "- Objetivos:\n",
    "  1. Soporte informático para procesos básicos (gestión).\n",
    "  2. Soporte para toma de decisiones (análisis, previsiones, estrategias).\n"
   ]
  },
  {
   "cell_type": "markdown",
   "id": "fa4a08d8",
   "metadata": {},
   "source": [
    "## Business Intelligence como visión estratégica\n",
    "- BI es una visión estratégica de los sistemas de información (SI).\n",
    "- Se compone de:\n",
    "  - Data Warehouses y herramientas OLAP\n",
    "  - Reporting, dashboards y sistemas de monitorización\n",
    "  - Minería de datos\n"
   ]
  },
  {
   "cell_type": "markdown",
   "id": "eaac4a0b",
   "metadata": {},
   "source": [
    "## Arquitectura del BI\n",
    "Tres niveles principales:\n",
    "\n",
    "1. **Top Tier (Herramientas de explotación):**\n",
    "   - Reporting\n",
    "   - Dashboards\n",
    "   - Analytics\n",
    "   - Minería de datos\n",
    "\n",
    "2. **Middle Tier (Servidores OLAP):**\n",
    "   - Proceso analítico en línea\n",
    "\n",
    "3. **Bottom Tier:**\n",
    "   - Bases de datos operacionales\n",
    "   - Fuentes externas\n",
    "   - Proceso ETL (Extract, Transform, Load)\n",
    "   - Data Warehouse\n",
    "   - Data Marts\n",
    "   - Repositorio de metadatos\n",
    "   - Administración y monitorización\n"
   ]
  },
  {
   "cell_type": "markdown",
   "id": "96434a2a",
   "metadata": {},
   "source": [
    "## Herramientas y operadores OLAP\n",
    "- OLAP permite el análisis multidimensional de los datos.\n",
    "- Operadores:\n",
    "  - Drill-down: aumentar el nivel de detalle\n",
    "  - Roll-up: agrupar o resumir datos\n",
    "  - Slice & Dice: seleccionar subconjuntos de datos\n",
    "  - Pivot: cambiar la orientación de los datos\n"
   ]
  },
  {
   "cell_type": "markdown",
   "id": "f211365a",
   "metadata": {},
   "source": [
    "## Dashboards vs Informes\n",
    "\n",
    "| Característica     | Dashboard                         | Informe                          |\n",
    "|--------------------|-----------------------------------|----------------------------------|\n",
    "| Enfoque            | KPIs y visión global              | Datos detallados                 |\n",
    "| Formato            | Visual, conciso, interactivo      | Largo, puede incluir dashboards  |\n",
    "| Objetivo           | Supervisar de un vistazo          | Documentar información           |\n",
    "| Acción             | Dinámico, accionable              | Complejo, puede tener acciones   |\n"
   ]
  },
  {
   "cell_type": "markdown",
   "id": "3261d3ce",
   "metadata": {},
   "source": [
    "## Comparación entre herramientas de BI\n",
    "\n",
    "| Herramienta     | Facilidad de uso | Integración con Microsoft | Visualizaciones avanzadas | Licencia | Ideal para |\n",
    "|------------------|------------------|----------------------------|----------------------------|----------|-------------|\n",
    "| Power BI         | Alta             | Excelente                  | Buena                      | Pago     | Usuarios de Microsoft Office |\n",
    "| Tableau          | Media            | Limitada                   | Excelente                  | Pago     | Análisis visual profundo |\n",
    "| Qlik Sense       | Media            | Moderada                   | Buena                      | Pago     | Análisis asociativo |\n",
    "| Looker Studio    | Alta             | Nativa con Google          | Moderada                   | Gratuita | Usuarios de Google Workspace |\n"
   ]
  }
 ],
 "metadata": {
  "language_info": {
   "name": "python"
  }
 },
 "nbformat": 4,
 "nbformat_minor": 5
}
